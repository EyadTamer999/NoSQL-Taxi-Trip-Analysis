{
  "nbformat": 4,
  "nbformat_minor": 0,
  "metadata": {
    "colab": {
      "provenance": []
    },
    "kernelspec": {
      "name": "python3",
      "display_name": "Python 3"
    },
    "language_info": {
      "name": "python"
    }
  },
  "cells": [
    {
      "cell_type": "code",
      "execution_count": null,
      "metadata": {
        "id": "6trRO2F0UFsC"
      },
      "outputs": [],
      "source": [
        "import pymongo\n",
        "from pymongo import MongoClient\n",
        "import urllib.parse\n",
        "from bson.json_util import dumps\n",
        "\n",
        "# CREDENTIALS\n",
        "url = \"mongodb+srv://<<USERNAME>>:<<PASSWORD>>@<<CLUSTERNAME>>.qgup7.mongodb.net/<<CLUSTERNAME>>?retryWrites=true&w=majority\" # replace <<CLUSTERNAME>> with your cluster's name\n",
        "cluster = MongoClient(url)\n",
        "\n",
        "db = cluster[\"<<CLUSTERNAME>>\"] # replace <<CLUSTERNAME>> with your database's name\n",
        "collection = db[\"berlin\"]"
      ]
    },
    {
      "cell_type": "code",
      "source": [
        "# -✔️- Reading listings from CSV into dataframe\n",
        "\n",
        "import pandas as pd\n",
        "\n",
        "df = pd.read_csv('C:/Users/asus/Downloads/listings.csv', encoding= 'unicode_escape') # edit path accordingly to read from where the listings.csv file is\n",
        "df = df.drop(columns=['Unnamed: 0'])\n",
        "df = df.rename(columns={'name':\"title\"})\n",
        "\n",
        "i,j = df.shape"
      ],
      "metadata": {
        "id": "RsStCafKUatJ"
      },
      "execution_count": null,
      "outputs": []
    },
    {
      "cell_type": "code",
      "source": [
        "# -✔️- Inserting the listings as documents into DB\n",
        "listings = []\n",
        "num = 0\n",
        "\n",
        "import math\n",
        "for x in range(0,i):\n",
        "    listings = listings + [{'_id': int(df.loc[x].id) if not math.isnan(df.loc[x].id) else None, 'listing_title': '%s' % (df.loc[x].title) if str(df.loc[x].title).strip() else None, 'host_id': int(df.loc[x].host_id) if not math.isnan(df.loc[x].host_id) else None, 'host_name': '%s' % (df.loc[x].host_name) if str(df.loc[x].host_name).strip() else None, 'neighbourhood': '%s' % (df.loc[x].neighbourhood) if str(df.loc[x].neighbourhood).strip() else None, 'neighbourhood_group': '%s' % (df.loc[x].neighbourhood_group) if str(df.loc[x].neighbourhood_group).strip() else None, 'coordinates': { 'longitude': float(df.loc[x].longitude), 'latitude': float(df.loc[x].latitude) }, 'room_type': '%s' % (df.loc[x].room_type) if str(df.loc[x].room_type).strip() else None, 'price': int(df.loc[x].price) if not math.isnan(df.loc[x].price) else None, 'minimum_nights': int(df.loc[x].minimum_nights) if not math.isnan(df.loc[x].minimum_nights) else None, 'availability': int(df.loc[x].availability_365) if not math.isnan(df.loc[x].availability_365) else None} ]\n",
        "    num = num + 1\n",
        "\n",
        "collection.insert_many(listings)\n",
        "print(num,\"listings were inserted\")"
      ],
      "metadata": {
        "id": "EQkm6hdAUc--"
      },
      "execution_count": null,
      "outputs": []
    },
    {
      "cell_type": "code",
      "source": [
        "# -✔️- Removing listings with missing price quota\n",
        "collection.delete_many({ '$or': [ { 'price': None }, { 'availability': None } ] })\n",
        "collection.delete_many({ '$or': [ { 'price': 0 }, { 'availability': 0 } ] })"
      ],
      "metadata": {
        "id": "2Xg3hN3TUgCO"
      },
      "execution_count": null,
      "outputs": []
    },
    {
      "cell_type": "code",
      "source": [
        "# -✔️- Optimizing search results - on neighbourhood_group (showing execution timings before and after optimization)\n",
        "mitte_listings = collection.find({\"neighbourhood_group\":\"Mitte\"}).explain()['executionStats']['executionTimeMillis']\n",
        "print(\"Before indexing:\",mitte_listings)\n",
        "\n",
        "collection.create_index('neighbourhood_group')\n",
        "\n",
        "mitte_listings = collection.find({\"neighbourhood_group\":\"Mitte\"}).explain()['executionStats']['executionTimeMillis']\n",
        "print(\"After indexing:\",mitte_listings)"
      ],
      "metadata": {
        "id": "4T5q7o_EUiHG"
      },
      "execution_count": null,
      "outputs": []
    },
    {
      "cell_type": "code",
      "source": [
        "# -✔️- Finding the top 3 private rooms with minimum amount to pay (will need to drop 0 price first) + displaying the listing_id, cost, duration rent, minimum nights & neighbourhood\n",
        "\n",
        "result = collection.aggregate(\n",
        "    [{\n",
        "        \"$match\" : { \"room_type\" : \"Private room\" }\n",
        "    },\n",
        "    {\n",
        "        \"$project\" :\n",
        "            {\n",
        "                \"_id\" : \"$_id\",\n",
        "                \"neighbourhood\" : \"$neighbourhood\",\n",
        "                \"duration_rent\" : { \"$multiply\": [ '$price', '$minimum_nights' ]},\n",
        "                \"price\" : \"$price\",\n",
        "                \"minimum_nights\" : \"$minimum_nights\",\n",
        "                \"room_type\" : \"$room_type\"\n",
        "            }\n",
        "    },\n",
        "    {\n",
        "        \"$sort\" : { \"duration_rent\" : 1 }\n",
        "    },\n",
        "    {\n",
        "        \"$limit\" : 3\n",
        "    }]\n",
        ")\n",
        "\n",
        "for l in result:\n",
        "    print(\"Listing\",l['_id'],\"costs $\",l['duration_rent'],\"for\",l['minimum_nights'],\"day(s) and is in\",l['neighbourhood'])\n",
        "#---------------------------- RESTART ----------------------------\n",
        "\n",
        "# collection.delete_many({})\n",
        "# collection.drop_index(\"neighbourhood_group_1\")"
      ],
      "metadata": {
        "id": "suRGmkCOUlNG"
      },
      "execution_count": null,
      "outputs": []
    }
  ]
}