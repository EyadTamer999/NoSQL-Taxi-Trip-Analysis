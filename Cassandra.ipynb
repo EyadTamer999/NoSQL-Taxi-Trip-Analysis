{
  "cells": [
    {
      "cell_type": "code",
      "execution_count": 30,
      "metadata": {
        "colab": {
          "base_uri": "https://localhost:8080/"
        },
        "id": "LOaDZz8bJBTE",
        "outputId": "31fbdf3d-715d-4ddd-e839-32c03e377a42"
      },
      "outputs": [
        {
          "output_type": "stream",
          "name": "stdout",
          "text": [
            "Requirement already satisfied: cassandra-driver in /usr/local/lib/python3.10/dist-packages (3.29.0)\n",
            "Requirement already satisfied: geomet<0.3,>=0.1 in /usr/local/lib/python3.10/dist-packages (from cassandra-driver) (0.2.1.post1)\n",
            "Requirement already satisfied: click in /usr/local/lib/python3.10/dist-packages (from geomet<0.3,>=0.1->cassandra-driver) (8.1.7)\n",
            "Requirement already satisfied: six in /usr/local/lib/python3.10/dist-packages (from geomet<0.3,>=0.1->cassandra-driver) (1.16.0)\n"
          ]
        }
      ],
      "source": [
        "!pip install cassandra-driver"
      ]
    },
    {
      "cell_type": "code",
      "execution_count": 31,
      "metadata": {
        "colab": {
          "base_uri": "https://localhost:8080/"
        },
        "id": "lYcUs8fDJLl-",
        "outputId": "c8f424c7-1a85-4150-ae20-af106dc3a50f"
      },
      "outputs": [
        {
          "output_type": "stream",
          "name": "stderr",
          "text": [
            "WARNING:cassandra.cluster:Downgrading core protocol version from 66 to 65 for c072af12-8ab0-4392-856a-67d9d9a3c4f5-us-east1.db.astra.datastax.com:29042:b52f7bbc-23dd-487d-bcb5-579b3e9c330a. To avoid this, it is best practice to explicitly set Cluster(protocol_version) to the version supported by your cluster. http://datastax.github.io/python-driver/api/cassandra/cluster.html#cassandra.cluster.Cluster.protocol_version\n",
            "WARNING:cassandra.cluster:Downgrading core protocol version from 65 to 5 for c072af12-8ab0-4392-856a-67d9d9a3c4f5-us-east1.db.astra.datastax.com:29042:b52f7bbc-23dd-487d-bcb5-579b3e9c330a. To avoid this, it is best practice to explicitly set Cluster(protocol_version) to the version supported by your cluster. http://datastax.github.io/python-driver/api/cassandra/cluster.html#cassandra.cluster.Cluster.protocol_version\n",
            "ERROR:cassandra.connection:Closing connection <AsyncoreConnection(138459394081216) c072af12-8ab0-4392-856a-67d9d9a3c4f5-us-east1.db.astra.datastax.com:29042:b52f7bbc-23dd-487d-bcb5-579b3e9c330a> due to protocol error: Error from server: code=000a [Protocol error] message=\"Beta version of the protocol used (5/v5-beta), but USE_BETA flag is unset\"\n",
            "WARNING:cassandra.cluster:Downgrading core protocol version from 5 to 4 for c072af12-8ab0-4392-856a-67d9d9a3c4f5-us-east1.db.astra.datastax.com:29042:b52f7bbc-23dd-487d-bcb5-579b3e9c330a. To avoid this, it is best practice to explicitly set Cluster(protocol_version) to the version supported by your cluster. http://datastax.github.io/python-driver/api/cassandra/cluster.html#cassandra.cluster.Cluster.protocol_version\n"
          ]
        }
      ],
      "source": [
        "from cassandra.cluster import Cluster\n",
        "from cassandra.auth import PlainTextAuthProvider\n",
        "\n",
        "cloud_config = {\n",
        "    \"secure_connect_bundle\": \"secure-connect-nyc-yellow-taxi-db.zip\"  # replace <</PATH/TO/>> with the path where your downloaded bundle was downloaded (make sure to place this python file in the same place as well)\n",
        "}\n",
        "auth_provider = PlainTextAuthProvider(\n",
        "    \"yiGvbsUpoEqllXBsXXwOjZBc\",\n",
        "    \"p,b-6bj-cMT1IR3dv,kGm6A8Q+yZg0jcMHWivO2XU0y9+evSLpYZ923mLvs,ocJ-CLeOdYI8EeiBoa7jR.r3fOFtpiQwO+Zdb2aq4FqaO4xSEXj_TF4KFkHoAs5N6mt_\",\n",
        ")  # replace <<CLIENT ID>> and <<CLIENT SECRET>> with the ClientID and Client Secret from your generated token\n",
        "cluster = Cluster(cloud=cloud_config, auth_provider=auth_provider)\n",
        "session = cluster.connect()\n",
        "session.set_keyspace(\n",
        "    \"nyc_yellow_taxi_db\")  # replace <<KEYSPACENAME>> with the name of the keyspace you created in DataStax"
      ]
    },
    {
      "cell_type": "code",
      "execution_count": 33,
      "metadata": {
        "id": "thZraJ3zTmAI"
      },
      "outputs": [],
      "source": [
        "# -✔️- Reading listings from CSV into dataframe\n",
        "\n",
        "import pandas as pd\n",
        "\n",
        "# read the csv files into the dataframes\n",
        "trip_data = pd.read_csv('taxi_trip_data.csv')\n",
        "zone_data = pd.read_csv('taxi_zone_geo.csv')"
      ]
    },
    {
      "cell_type": "code",
      "execution_count": 34,
      "metadata": {
        "id": "tVyxB7TK3fFH"
      },
      "outputs": [],
      "source": [
        "# a) Remove the columns “store_and_fwd_flag”, “rate_code” and “total_amount” from taxitripdata\n",
        "trip_data = trip_data.drop(['store_and_fwd_flag', 'rate_code', 'total_amount'], axis=1)\n"
      ]
    },
    {
      "cell_type": "code",
      "execution_count": 35,
      "metadata": {
        "id": "qxMzH71f_XSC"
      },
      "outputs": [],
      "source": [
        "# b) Drop rows with missing details\n",
        "trip_data = trip_data.dropna()\n"
      ]
    },
    {
      "cell_type": "code",
      "execution_count": 36,
      "metadata": {
        "colab": {
          "base_uri": "https://localhost:8080/"
        },
        "id": "cicWPumbAKGs",
        "outputId": "b17975b4-3541-4ccd-932d-33be1ae55eaa"
      },
      "outputs": [
        {
          "output_type": "stream",
          "name": "stdout",
          "text": [
            "<class 'pandas.core.frame.DataFrame'>\n",
            "Int64Index: 204499 entries, 0 to 204498\n",
            "Data columns (total 14 columns):\n",
            " #   Column               Non-Null Count   Dtype  \n",
            "---  ------               --------------   -----  \n",
            " 0   vendor_id            204499 non-null  int64  \n",
            " 1   pickup_datetime      204499 non-null  object \n",
            " 2   dropoff_datetime     204499 non-null  object \n",
            " 3   passenger_count      204499 non-null  float64\n",
            " 4   trip_distance        204499 non-null  float64\n",
            " 5   payment_type         204499 non-null  float64\n",
            " 6   fare_amount          204499 non-null  float64\n",
            " 7   extra                204499 non-null  float64\n",
            " 8   mta_tax              204499 non-null  float64\n",
            " 9   tip_amount           204499 non-null  float64\n",
            " 10  tolls_amount         204499 non-null  float64\n",
            " 11  imp_surcharge        204499 non-null  float64\n",
            " 12  pickup_location_id   204499 non-null  float64\n",
            " 13  dropoff_location_id  204499 non-null  float64\n",
            "dtypes: float64(11), int64(1), object(2)\n",
            "memory usage: 23.4+ MB\n"
          ]
        }
      ],
      "source": [
        "trip_data.info()"
      ]
    },
    {
      "cell_type": "code",
      "execution_count": 37,
      "metadata": {
        "colab": {
          "base_uri": "https://localhost:8080/"
        },
        "id": "PPVnSQYSAKGt",
        "outputId": "9969acd4-5285-41c7-aa1b-e6f7380e6967"
      },
      "outputs": [
        {
          "output_type": "stream",
          "name": "stdout",
          "text": [
            "<class 'pandas.core.frame.DataFrame'>\n",
            "RangeIndex: 263 entries, 0 to 262\n",
            "Data columns (total 4 columns):\n",
            " #   Column     Non-Null Count  Dtype \n",
            "---  ------     --------------  ----- \n",
            " 0   zone_id    263 non-null    int64 \n",
            " 1   zone_name  263 non-null    object\n",
            " 2   borough    263 non-null    object\n",
            " 3   zone_geom  263 non-null    object\n",
            "dtypes: int64(1), object(3)\n",
            "memory usage: 8.3+ KB\n"
          ]
        }
      ],
      "source": [
        "zone_data.info()"
      ]
    },
    {
      "cell_type": "code",
      "execution_count": null,
      "metadata": {
        "id": "CoIq7Lc_LSw4",
        "outputId": "5e4f63ca-f22b-44a1-9d69-e09362f10a6c"
      },
      "outputs": [
        {
          "data": {
            "text/plain": [
              "<cassandra.cluster.ResultSet at 0x2af9e7bcdf0>"
            ]
          },
          "execution_count": 32,
          "metadata": {},
          "output_type": "execute_result"
        }
      ],
      "source": [
        "# columns in the trip_data table:\n",
        "# vendor_id, pickup_datetime, dropoff_datetime, passenger_count, trip_distance, rate_code, store_and_fwd_flag, payment_type, fare_amount, extra, mta_tax, tip_amount, tolls_amount,\n",
        "# imp_surcharge, total_amount, pickup_location_id, dropoff_location_id, pickup_location, dropoff_location\n",
        "#  zone_id_x zone_name_x  borough_x  zone_geom_x  zone_id_y zone_name_y  borough_y  zone_geom_y\n",
        "\n",
        "# session.execute(\n",
        "#     \"\"\"\n",
        "#     DROP TABLE trip_data;\n",
        "#     \"\"\"\n",
        "# )\n",
        "\n",
        "# create the table for trip_data\n",
        "session.execute(\n",
        "    \"\"\"\n",
        "CREATE TABLE trip_data (\n",
        "    trip_id UUID PRIMARY KEY,\n",
        "    vendor_id INT,\n",
        "    pickup_datetime TIMESTAMP,\n",
        "    dropoff_datetime TIMESTAMP,\n",
        "    passenger_count FLOAT,\n",
        "    trip_distance FLOAT,\n",
        "    payment_type INT,\n",
        "    fare_amount FLOAT,\n",
        "    extra FLOAT,\n",
        "    mta_tax FLOAT,\n",
        "    tip_amount FLOAT,\n",
        "    tolls_amount FLOAT,\n",
        "    imp_surcharge FLOAT,\n",
        "    pickup_location INT,\n",
        "    dropoff_location INT,\n",
        ");\n",
        "    \"\"\"\n",
        ")"
      ]
    },
    {
      "cell_type": "code",
      "execution_count": null,
      "metadata": {
        "id": "lAO369as3fFN"
      },
      "outputs": [],
      "source": [
        "# c) Insert the data in the database as you see fit\n",
        "\n",
        "# Insert the data into the trip_data table\n",
        "# instert only 20,000 rows\n",
        "\n",
        "for index, row in trip_data.head(20000).iterrows():\n",
        "\n",
        "    # Extract data for insertion\n",
        "    vendor_id = row['vendor_id']\n",
        "    pickup_datetime = row['pickup_datetime']\n",
        "    dropoff_datetime = row['dropoff_datetime']\n",
        "    passenger_count = row['passenger_count']\n",
        "    trip_distance = row['trip_distance']\n",
        "    payment_type = row['payment_type']\n",
        "    fare_amount = row['fare_amount']\n",
        "    extra = row['extra']\n",
        "    mta_tax = row['mta_tax']\n",
        "    tip_amount = row['tip_amount']\n",
        "    tolls_amount = row['tolls_amount']\n",
        "    imp_surcharge = row['imp_surcharge']\n",
        "    pickup_location = row['pickup_location_id']\n",
        "    dropoff_location = row['dropoff_location_id']\n",
        "\n",
        "    # Insert the data into the trip_data table\n",
        "    session.execute(\n",
        "        \"\"\"\n",
        "        INSERT INTO trip_data (trip_id,vendor_id, pickup_datetime, dropoff_datetime, passenger_count, trip_distance, payment_type, fare_amount, extra, mta_tax, tip_amount, tolls_amount, imp_surcharge, pickup_location, dropoff_location)\n",
        "        VALUES (UUID(), %s, %s, %s, %s, %s, %s, %s, %s, %s, %s, %s, %s, %s, %s)\n",
        "        \"\"\",\n",
        "        (\n",
        "            vendor_id,\n",
        "            pickup_datetime,\n",
        "            dropoff_datetime,\n",
        "            passenger_count,\n",
        "            trip_distance,\n",
        "            payment_type,\n",
        "            fare_amount,\n",
        "            extra,\n",
        "            mta_tax,\n",
        "            tip_amount,\n",
        "            tolls_amount,\n",
        "            imp_surcharge,\n",
        "            pickup_location,\n",
        "            dropoff_location,\n",
        "        ),\n",
        "    )"
      ]
    },
    {
      "cell_type": "code",
      "source": [
        "# session.execute(\"ALTER TABLE trip_data ADD duration float;\")\n",
        "session.execute(\"ALTER TABLE trip_data ADD total_trip_cost float;\")\n"
      ],
      "metadata": {
        "colab": {
          "base_uri": "https://localhost:8080/"
        },
        "id": "XgW2_Bt_JCLU",
        "outputId": "af527be6-c740-46f3-dc51-bec84dfb010f"
      },
      "execution_count": 27,
      "outputs": [
        {
          "output_type": "execute_result",
          "data": {
            "text/plain": [
              "<cassandra.cluster.ResultSet at 0x7deda6e63520>"
            ]
          },
          "metadata": {},
          "execution_count": 27
        }
      ]
    },
    {
      "cell_type": "code",
      "execution_count": 24,
      "metadata": {
        "id": "u99c23t33fFP"
      },
      "outputs": [],
      "source": [
        "# d) Calculate the duration for each trip and add it as a new field in your database (e7sb el duration men pickup date le dropoff date)\n",
        "# add a new column to the trip_data dataframe for the duration of the trip\n",
        "# Query for trips\n",
        "rows = session.execute(\"SELECT trip_id, pickup_datetime, dropoff_datetime FROM trip_data\")\n",
        "\n",
        "# Update each row with duration_seconds\n",
        "for row in rows:\n",
        "    pickup_datetime = row.pickup_datetime\n",
        "    dropoff_datetime = row.dropoff_datetime\n",
        "\n",
        "    # Calculate duration in seconds\n",
        "    duration = (dropoff_datetime - pickup_datetime).total_seconds()\n",
        "\n",
        "    # Update the row with duration_seconds\n",
        "    session.execute(\n",
        "        \"\"\"\n",
        "        UPDATE trip_data\n",
        "        SET duration = %s\n",
        "        WHERE trip_id = %s\n",
        "        \"\"\",\n",
        "        (duration, row.trip_id)\n",
        "    )"
      ]
    },
    {
      "cell_type": "code",
      "execution_count": 29,
      "metadata": {
        "id": "t-fluENg3fFR"
      },
      "outputs": [],
      "source": [
        "# e) Use “fare_amount”, “extra”, “mta_tax”, “tip_amount”, “tolls_amount” and “imp_surcharge” to calculate the total trip cost and add it as a new field in your database (e7sb el total cost)\n",
        "\n",
        "rows = session.execute(\"SELECT trip_id, fare_amount, extra, mta_tax, tip_amount, tolls_amount, imp_surcharge FROM trip_data\")\n",
        "\n",
        "# Update each row with total_trip_cost\n",
        "for row in rows:\n",
        "    fare_amount = row.fare_amount\n",
        "    extra = row.extra\n",
        "    mta_tax = row.mta_tax\n",
        "    tip_amount = row.tip_amount\n",
        "    tolls_amount = row.tolls_amount\n",
        "    imp_surcharge = row.imp_surcharge\n",
        "\n",
        "    # Calculate total trip cost\n",
        "    total_trip_cost = fare_amount + extra + mta_tax + tip_amount + tolls_amount + imp_surcharge\n",
        "\n",
        "    # Update the row with total_trip_cost\n",
        "    session.execute(\n",
        "        \"\"\"\n",
        "        UPDATE trip_data\n",
        "        SET total_trip_cost = %s\n",
        "        WHERE trip_id = %s\n",
        "        \"\"\",\n",
        "        (float(total_trip_cost), row.trip_id)\n",
        "         )\n"
      ]
    },
    {
      "cell_type": "code",
      "execution_count": 39,
      "metadata": {
        "id": "pslVDfd83fFS",
        "colab": {
          "base_uri": "https://localhost:8080/"
        },
        "outputId": "2e6b4289-aa39-4b93-8281-4e6415cb3b25"
      },
      "outputs": [
        {
          "output_type": "execute_result",
          "data": {
            "text/plain": [
              "<cassandra.cluster.ResultSet at 0x7ded96edaa40>"
            ]
          },
          "metadata": {},
          "execution_count": 39
        }
      ],
      "source": [
        "# f) What is the most common payment type used per time of day? Hint: time of day meaning morning, afternoon, evening, night\n",
        "# create a new column in the trip_data dataframe for the time of day\n",
        "# Create a new column to store the time of day\n",
        "session.execute(\"ALTER TABLE trip_data ADD time_of_day TEXT\")"
      ]
    },
    {
      "cell_type": "code",
      "source": [
        "# Update each row with the time of day\n",
        "rows = session.execute(\"SELECT trip_id, pickup_datetime FROM trip_data\")\n",
        "for row in rows:\n",
        "    pickup_hour = row.pickup_datetime.hour\n",
        "    if pickup_hour < 6:\n",
        "        time_of_day = 'Night'\n",
        "    elif pickup_hour < 12:\n",
        "        time_of_day = 'Morning'\n",
        "    elif pickup_hour < 18:\n",
        "        time_of_day = 'Afternoon'\n",
        "    else:\n",
        "        time_of_day = 'Evening'\n",
        "\n",
        "    # Update the row with the time of day\n",
        "    session.execute(\n",
        "        \"\"\"\n",
        "        UPDATE trip_data\n",
        "        SET time_of_day = %s\n",
        "        WHERE trip_id = %s\n",
        "        \"\"\",\n",
        "        (time_of_day, row.trip_id)\n",
        "    )"
      ],
      "metadata": {
        "id": "hsr-v1Lhpbs7"
      },
      "execution_count": 41,
      "outputs": []
    },
    {
      "cell_type": "code",
      "source": [
        "# Fetch all rows from Cassandra\n",
        "rows = session.execute(\"SELECT pickup_datetime, payment_type FROM trip_data\")\n",
        "\n",
        "# Initialize empty dictionary to store payment counts for each time of day\n",
        "payment_counts = {}\n",
        "\n",
        "# Iterate over rows and update payment counts for each time of day\n",
        "for row in rows:\n",
        "    pickup_datetime = row.pickup_datetime\n",
        "    pickup_hour = pickup_datetime.hour\n",
        "    if pickup_hour < 6:\n",
        "        time_of_day = 'Night'\n",
        "    elif pickup_hour < 12:\n",
        "        time_of_day = 'Morning'\n",
        "    elif pickup_hour < 18:\n",
        "        time_of_day = 'Afternoon'\n",
        "    else:\n",
        "        time_of_day = 'Evening'\n",
        "\n",
        "    # Increment count for the payment type at this time of day\n",
        "    if (time_of_day, row.payment_type) in payment_counts:\n",
        "        payment_counts[(time_of_day, row.payment_type)] += 1\n",
        "    else:\n",
        "        payment_counts[(time_of_day, row.payment_type)] = 1\n",
        "\n",
        "# Find the most common payment type for each time of day\n",
        "most_common_payment = {}\n",
        "for time_of_day in ['Night', 'Morning', 'Afternoon', 'Evening']:\n",
        "    max_count = 0\n",
        "    most_common = None\n",
        "    for key, count in payment_counts.items():\n",
        "        if key[0] == time_of_day and count > max_count:\n",
        "            most_common = key[1]\n",
        "            max_count = count\n",
        "    most_common_payment[time_of_day] = most_common\n",
        "\n",
        "# Print the results\n",
        "print(\"The most common payment for each time of day is:\")\n",
        "for time_of_day, payment_type in most_common_payment.items():\n",
        "    print(f\"{time_of_day}: {payment_type if payment_type is not None else 'No data available'}\")\n"
      ],
      "metadata": {
        "colab": {
          "base_uri": "https://localhost:8080/"
        },
        "id": "3du2rBwErGUD",
        "outputId": "e58289c9-c02f-41d1-d47d-3494cd424027"
      },
      "execution_count": 48,
      "outputs": [
        {
          "output_type": "stream",
          "name": "stdout",
          "text": [
            "The most common payment for each time of day is:\n",
            "Night: 1\n",
            "Morning: 1\n",
            "Afternoon: 1\n",
            "Evening: 1\n"
          ]
        }
      ]
    },
    {
      "cell_type": "code",
      "execution_count": 49,
      "metadata": {
        "id": "Yf264jIh3fFS",
        "colab": {
          "base_uri": "https://localhost:8080/"
        },
        "outputId": "1c827c47-983f-489a-b204-a83c1ee60e84"
      },
      "outputs": [
        {
          "output_type": "stream",
          "name": "stdout",
          "text": [
            "Passenger Count: 1.0, Average Tip Amount: 1.858077710697463\n",
            "Passenger Count: 3.0, Average Tip Amount: 1.7751891286801502\n",
            "Passenger Count: 2.0, Average Tip Amount: 1.83279797850484\n",
            "Passenger Count: 6.0, Average Tip Amount: 1.9642218252200774\n",
            "Passenger Count: 5.0, Average Tip Amount: 1.9095819204203826\n",
            "Passenger Count: 0.0, Average Tip Amount: 1.9354922311293647\n",
            "Passenger Count: 4.0, Average Tip Amount: 2.0218032819977223\n"
          ]
        }
      ],
      "source": [
        "# g) What is the average tip amount per passenger count?\n",
        "# query the trip_data table to find the average tip amount per passenger count\n",
        "# Fetch all rows from Cassandra\n",
        "rows = session.execute(\"SELECT passenger_count, tip_amount FROM trip_data\")\n",
        "\n",
        "# Initialize dictionaries to store total tip amount and passenger count for each passenger count\n",
        "total_tip_amount = {}\n",
        "passenger_count = {}\n",
        "\n",
        "# Iterate over rows and update total tip amount and passenger count for each passenger count\n",
        "for row in rows:\n",
        "    count = row.passenger_count\n",
        "    tip = row.tip_amount\n",
        "\n",
        "    if count in total_tip_amount:\n",
        "        total_tip_amount[count] += tip\n",
        "        passenger_count[count] += 1\n",
        "    else:\n",
        "        total_tip_amount[count] = tip\n",
        "        passenger_count[count] = 1\n",
        "\n",
        "# Calculate average tip amount for each passenger count\n",
        "average_tip_amount = {}\n",
        "for count, total in total_tip_amount.items():\n",
        "    average_tip_amount[count] = total / passenger_count[count]\n",
        "\n",
        "# Print the result\n",
        "for count, avg_tip in average_tip_amount.items():\n",
        "    print(f\"Passenger Count: {count}, Average Tip Amount: {avg_tip}\")"
      ]
    },
    {
      "cell_type": "code",
      "execution_count": 52,
      "metadata": {
        "id": "RCqg1efA3fFT",
        "colab": {
          "base_uri": "https://localhost:8080/"
        },
        "outputId": "e8373a67-b234-427c-faba-f7ee632b72e0"
      },
      "outputs": [
        {
          "output_type": "stream",
          "name": "stdout",
          "text": [
            "1. Pickup Location: 237, Pickup Count: 806\n",
            "2. Pickup Location: 161, Pickup Count: 757\n",
            "3. Pickup Location: 236, Pickup Count: 722\n",
            "4. Pickup Location: 230, Pickup Count: 705\n",
            "5. Pickup Location: 162, Pickup Count: 686\n"
          ]
        }
      ],
      "source": [
        "# h) What are the best 5 locations for drivers to pick up passengers from? (based on the trip count)\n",
        "# query the trip_data table to find the best 5 locations for drivers to pick up passengers from\n",
        "# Fetch all rows from Cassandra\n",
        "rows = session.execute(\"SELECT pickup_location FROM trip_data\")\n",
        "\n",
        "# Initialize dictionary to store pickup counts for each location\n",
        "pickup_counts = {}\n",
        "\n",
        "# Count the number of pickups at each location\n",
        "for row in rows:\n",
        "    location_id = row.pickup_location\n",
        "    if location_id in pickup_counts:\n",
        "        pickup_counts[location_id] += 1\n",
        "    else:\n",
        "        pickup_counts[location_id] = 1\n",
        "\n",
        "# Sort pickup counts in descending order and get the top 5 locations\n",
        "top_locations = sorted(pickup_counts.items(), key=lambda x: x[1], reverse=True)[:5]\n",
        "\n",
        "# Print the top 5 pickup locations\n",
        "for idx, (location_id, count) in enumerate(top_locations, 1):\n",
        "    print(f\"{idx}. Pickup Location: {location_id}, Pickup Count: {count}\")"
      ]
    },
    {
      "cell_type": "code",
      "source": [
        "# Iterate over the top 5 pickup locations\n",
        "for x, (zone_id, count) in enumerate(top_locations, 1):\n",
        "    # Search for the location ID in the zone_data DataFrame\n",
        "    location_info = zone_data[zone_data['zone_id'] == location_id]\n",
        "\n",
        "    # Print the information if the location is found\n",
        "    if not location_info.empty:\n",
        "        print(f\"{x}. Pickup Location: {zone_id}, Pickup Count: {count}\")\n",
        "        print(location_info)\n",
        "    else:\n",
        "        print(f\"No information found for pickup location with ID: {zone_id}\")"
      ],
      "metadata": {
        "colab": {
          "base_uri": "https://localhost:8080/"
        },
        "id": "UWuxe2Ta7K_9",
        "outputId": "2a7b5f49-d122-48eb-fac4-58fd85a28522"
      },
      "execution_count": 54,
      "outputs": [
        {
          "output_type": "stream",
          "name": "stdout",
          "text": [
            "1. Pickup Location: 237, Pickup Count: 806\n",
            "     zone_id              zone_name    borough  \\\n",
            "233      237  Upper East Side South  Manhattan   \n",
            "\n",
            "                                             zone_geom  \n",
            "233  POLYGON((-73.9656696 40.7628045559999, -73.965...  \n",
            "2. Pickup Location: 161, Pickup Count: 757\n",
            "     zone_id              zone_name    borough  \\\n",
            "233      237  Upper East Side South  Manhattan   \n",
            "\n",
            "                                             zone_geom  \n",
            "233  POLYGON((-73.9656696 40.7628045559999, -73.965...  \n",
            "3. Pickup Location: 236, Pickup Count: 722\n",
            "     zone_id              zone_name    borough  \\\n",
            "233      237  Upper East Side South  Manhattan   \n",
            "\n",
            "                                             zone_geom  \n",
            "233  POLYGON((-73.9656696 40.7628045559999, -73.965...  \n",
            "4. Pickup Location: 230, Pickup Count: 705\n",
            "     zone_id              zone_name    borough  \\\n",
            "233      237  Upper East Side South  Manhattan   \n",
            "\n",
            "                                             zone_geom  \n",
            "233  POLYGON((-73.9656696 40.7628045559999, -73.965...  \n",
            "5. Pickup Location: 162, Pickup Count: 686\n",
            "     zone_id              zone_name    borough  \\\n",
            "233      237  Upper East Side South  Manhattan   \n",
            "\n",
            "                                             zone_geom  \n",
            "233  POLYGON((-73.9656696 40.7628045559999, -73.965...  \n"
          ]
        }
      ]
    }
  ],
  "metadata": {
    "colab": {
      "provenance": []
    },
    "kernelspec": {
      "display_name": "Python 3",
      "name": "python3"
    },
    "language_info": {
      "codemirror_mode": {
        "name": "ipython",
        "version": 3
      },
      "file_extension": ".py",
      "mimetype": "text/x-python",
      "name": "python",
      "nbconvert_exporter": "python",
      "pygments_lexer": "ipython3",
      "version": "3.10.11"
    }
  },
  "nbformat": 4,
  "nbformat_minor": 0
}