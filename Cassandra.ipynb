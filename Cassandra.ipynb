{
  "cells": [
    {
      "cell_type": "code",
      "execution_count": 1,
      "metadata": {
        "colab": {
          "base_uri": "https://localhost:8080/"
        },
        "id": "LOaDZz8bJBTE",
        "outputId": "e6930c71-b3c0-4bf2-efa6-3a8f4cc89675"
      },
      "outputs": [
        {
          "name": "stdout",
          "output_type": "stream",
          "text": [
            "Collecting cassandra-driver\n",
            "  Downloading cassandra_driver-3.29.0-cp310-cp310-win_amd64.whl (2.7 MB)\n",
            "                                              0.0/2.7 MB ? eta -:--:--\n",
            "                                              0.0/2.7 MB 660.6 kB/s eta 0:00:05\n",
            "                                              0.1/2.7 MB 656.4 kB/s eta 0:00:05\n",
            "     -                                        0.1/2.7 MB 939.4 kB/s eta 0:00:03\n",
            "     --                                       0.2/2.7 MB 1.1 MB/s eta 0:00:03\n",
            "     --                                       0.2/2.7 MB 1.1 MB/s eta 0:00:03\n",
            "     ----                                     0.3/2.7 MB 1.5 MB/s eta 0:00:02\n",
            "     ------                                   0.5/2.7 MB 1.8 MB/s eta 0:00:02\n",
            "     -------                                  0.5/2.7 MB 1.6 MB/s eta 0:00:02\n",
            "     ---------                                0.6/2.7 MB 1.9 MB/s eta 0:00:02\n",
            "     -----------                              0.8/2.7 MB 2.2 MB/s eta 0:00:01\n",
            "     ------------                             0.9/2.7 MB 2.2 MB/s eta 0:00:01\n",
            "     -------------                            1.0/2.7 MB 2.2 MB/s eta 0:00:01\n",
            "     -------------                            1.0/2.7 MB 2.2 MB/s eta 0:00:01\n",
            "     ---------------                          1.1/2.7 MB 2.1 MB/s eta 0:00:01\n",
            "     ------------------                       1.3/2.7 MB 2.4 MB/s eta 0:00:01\n",
            "     --------------------                     1.4/2.7 MB 2.4 MB/s eta 0:00:01\n",
            "     ---------------------                    1.5/2.7 MB 2.3 MB/s eta 0:00:01\n",
            "     ----------------------                   1.6/2.7 MB 2.4 MB/s eta 0:00:01\n",
            "     -----------------------                  1.6/2.7 MB 2.4 MB/s eta 0:00:01\n",
            "     -------------------------                1.8/2.7 MB 2.4 MB/s eta 0:00:01\n",
            "     ---------------------------              1.9/2.7 MB 2.5 MB/s eta 0:00:01\n",
            "     ---------------------------              1.9/2.7 MB 2.5 MB/s eta 0:00:01\n",
            "     ---------------------------              1.9/2.7 MB 2.3 MB/s eta 0:00:01\n",
            "     ---------------------------              1.9/2.7 MB 2.3 MB/s eta 0:00:01\n",
            "     -----------------------------            2.0/2.7 MB 2.2 MB/s eta 0:00:01\n",
            "     --------------------------------         2.2/2.7 MB 2.3 MB/s eta 0:00:01\n",
            "     ----------------------------------       2.4/2.7 MB 2.4 MB/s eta 0:00:01\n",
            "     -----------------------------------      2.4/2.7 MB 2.4 MB/s eta 0:00:01\n",
            "     ------------------------------------     2.5/2.7 MB 2.4 MB/s eta 0:00:01\n",
            "     --------------------------------------   2.7/2.7 MB 2.4 MB/s eta 0:00:01\n",
            "     ---------------------------------------  2.7/2.7 MB 2.5 MB/s eta 0:00:01\n",
            "     ---------------------------------------- 2.7/2.7 MB 2.4 MB/s eta 0:00:00\n",
            "Collecting geomet<0.3,>=0.1 (from cassandra-driver)\n",
            "  Using cached geomet-0.2.1.post1-py3-none-any.whl (18 kB)\n",
            "Requirement already satisfied: click in c:\\users\\eyad tamer\\appdata\\local\\packages\\pythonsoftwarefoundation.python.3.10_qbz5n2kfra8p0\\localcache\\local-packages\\python310\\site-packages (from geomet<0.3,>=0.1->cassandra-driver) (8.1.3)\n",
            "Requirement already satisfied: six in c:\\users\\eyad tamer\\appdata\\local\\packages\\pythonsoftwarefoundation.python.3.10_qbz5n2kfra8p0\\localcache\\local-packages\\python310\\site-packages (from geomet<0.3,>=0.1->cassandra-driver) (1.16.0)\n",
            "Requirement already satisfied: colorama in c:\\users\\eyad tamer\\appdata\\local\\packages\\pythonsoftwarefoundation.python.3.10_qbz5n2kfra8p0\\localcache\\local-packages\\python310\\site-packages (from click->geomet<0.3,>=0.1->cassandra-driver) (0.4.6)\n",
            "Installing collected packages: geomet, cassandra-driver\n",
            "Successfully installed cassandra-driver-3.29.0 geomet-0.2.1.post1\n",
            "Note: you may need to restart the kernel to use updated packages.\n"
          ]
        },
        {
          "name": "stderr",
          "output_type": "stream",
          "text": [
            "\n",
            "[notice] A new release of pip is available: 23.1.2 -> 24.0\n",
            "[notice] To update, run: C:\\Users\\Eyad Tamer\\AppData\\Local\\Microsoft\\WindowsApps\\PythonSoftwareFoundation.Python.3.10_qbz5n2kfra8p0\\python.exe -m pip install --upgrade pip\n"
          ]
        }
      ],
      "source": [
        "pip install cassandra-driver"
      ]
    },
    {
      "cell_type": "code",
      "execution_count": 3,
      "metadata": {
        "id": "lYcUs8fDJLl-"
      },
      "outputs": [],
      "source": [
        "from cassandra.cluster import Cluster\n",
        "from cassandra.auth import PlainTextAuthProvider\n",
        "\n",
        "cloud_config = {\n",
        "    \"secure_connect_bundle\": \"secure-connect-nyc-yellow-taxi-db.zip\"  # replace <</PATH/TO/>> with the path where your downloaded bundle was downloaded (make sure to place this python file in the same place as well)\n",
        "}\n",
        "auth_provider = PlainTextAuthProvider(\n",
        "    \"yiGvbsUpoEqllXBsXXwOjZBc\",\n",
        "    \"p,b-6bj-cMT1IR3dv,kGm6A8Q+yZg0jcMHWivO2XU0y9+evSLpYZ923mLvs,ocJ-CLeOdYI8EeiBoa7jR.r3fOFtpiQwO+Zdb2aq4FqaO4xSEXj_TF4KFkHoAs5N6mt_\",\n",
        ")  # replace <<CLIENT ID>> and <<CLIENT SECRET>> with the ClientID and Client Secret from your generated token\n",
        "cluster = Cluster(cloud=cloud_config, auth_provider=auth_provider)\n",
        "session = cluster.connect()\n",
        "session.set_keyspace(\n",
        "    \"nyc_yellow_taxi_db\")  # replace <<KEYSPACENAME>> with the name of the keyspace you created in DataStax"
      ]
    },
    {
      "cell_type": "code",
      "execution_count": null,
      "metadata": {
        "id": "thZraJ3zTmAI"
      },
      "outputs": [],
      "source": [
        "# -✔️- Reading listings from CSV into dataframe\n",
        "\n",
        "import pandas as pd\n",
        "\n",
        "df = pd.read_csv('C:/Users/asus/Downloads/listings.csv', encoding= 'unicode_escape') # edit path accordingly to read from where the moviestv.csv file is\n",
        "df = df.drop(columns=['Unnamed: 0'])\n",
        "df = df.rename(columns={'name':\"title\"})\n",
        "\n",
        "i,j = df.shape"
      ]
    },
    {
      "cell_type": "code",
      "execution_count": null,
      "metadata": {
        "id": "6KkNvR_lTrwX"
      },
      "outputs": [],
      "source": [
        "\n",
        "# -✔️- Inserting the listings into DB (Creating UDT for Coordinates, Creating Table + Inserts)\n",
        "\n",
        "session.execute(\"create type long_lat ( longitude float, latitude float );\")\n",
        "\n",
        "session.execute(\"\"\"\n",
        "    create table if not exists airbnb.berlin (\n",
        "        id int primary key,\n",
        "        listing_title text,\n",
        "        host_id int,\n",
        "        host_name text,\n",
        "        neighbourhood text,\n",
        "        neighbourhood_group text,\n",
        "        coordinates long_lat,\n",
        "        room_type text,\n",
        "        price int,\n",
        "        minimum_nights int,\n",
        "        availability int\n",
        " \t);\n",
        "\"\"\")\n",
        "\n",
        "num = 0\n",
        "import math\n",
        "\n",
        "for x in range(0,1000):\n",
        "    listing_id = int(df.loc[x].id) if not math.isnan(df.loc[x].id) else \"null\"\n",
        "    listing_title = \"null\" if str(df.loc[x].title)==\"nan\" else df.loc[x].title\n",
        "    host_id = int(df.loc[x].host_id) if not math.isnan(df.loc[x].host_id) else \"null\"\n",
        "    host_name = df.loc[x].host_name if str(df.loc[x].host_name).strip() else \"null\"\n",
        "    neighbourhood = df.loc[x].neighbourhood if str(df.loc[x].neighbourhood).strip() else \"null\"\n",
        "    neighbourhood_group = df.loc[x].neighbourhood_group if str(df.loc[x].neighbourhood_group).strip() else \"null\"\n",
        "    room_type = df.loc[x].room_type if str(df.loc[x].room_type).strip() else \"null\"\n",
        "    price = int(df.loc[x].price) if not math.isnan(df.loc[x].price) else \"null\"\n",
        "    minimum_nights = int(df.loc[x].minimum_nights) if not math.isnan(df.loc[x].minimum_nights) else \"null\"\n",
        "    availability = int(df.loc[x].availability_365) if not math.isnan(df.loc[x].availability_365) else \"null\"\n",
        "    if \"'\" not in str(listing_title) and \"'\" not in str(host_name):\n",
        "        session.execute(\"insert into airbnb.berlin(id,listing_title,host_id,host_name,neighbourhood,neighbourhood_group,coordinates,room_type,price,minimum_nights,availability) values (%d,'%s',%d,'%s','%s','%s',{longitude:%d,latitude:%d},'%s',%d,%d,%d);\" % (listing_id,listing_title,host_id,host_name,neighbourhood,neighbourhood_group,df.loc[x].longitude,df.loc[x].latitude,room_type,price,minimum_nights,availability))\n",
        "        num = num + 1\n",
        "\n",
        "print(num,\"listings were inserted\")\n",
        "\n",
        "rows = session.execute(\"select * from airbnb.berlin limit 10;\") # to make sure entries where inserted + correctly\n",
        "for row in rows:\n",
        "    print(row)\n"
      ]
    },
    {
      "cell_type": "code",
      "execution_count": null,
      "metadata": {
        "id": "qRE_KaVnTu6d"
      },
      "outputs": [],
      "source": [
        "# -✔️- Removing listings with missing price quota (need to index price first) ----------------------------------------------------------\n",
        "\n",
        "session.execute(\"create index on airbnb.berlin(price);\")\n",
        "\n",
        "rows = session.execute(\"select * from airbnb.berlin where price=0;\")\n",
        "num = 0\n",
        "ids = []\n",
        "for row in rows:\n",
        "    num = num+1\n",
        "    ids = ids + [row[0]]\n",
        "    print(row)\n",
        "\n",
        "for n in ids:\n",
        "    session.execute(\"delete from airbnb.berlin where id='{0}';\".format(n))\n",
        "\n",
        "print(num,\"rows deleted\")"
      ]
    },
    {
      "cell_type": "code",
      "execution_count": null,
      "metadata": {
        "id": "wShkNLAdTvWe"
      },
      "outputs": [],
      "source": [
        "\n",
        "\n",
        "# -✔️- Optimizing search results - on neighbourhood_group (showing execution timings before and after optimization) ----------------------------------------------------------\n",
        "\n",
        "session.execute(\"create index on airbnb.berlin(neighbourhood_group);\")\n",
        "\n",
        "rows = session.execute(\"select * from airbnb.berlin where neighbourhood_group='Mitte';\")\n",
        "for row in rows:\n",
        "    print(row)"
      ]
    },
    {
      "cell_type": "code",
      "execution_count": null,
      "metadata": {
        "id": "y6Df5FwtTvY9"
      },
      "outputs": [],
      "source": [
        "\n",
        "# -✔️⚠️- Finding the top 3 private rooms with minimum amount to pay (adding new column duration_rent + updating it) + displaying the listing_id, cost, duration rent, minimum nights & neighbourhood\n",
        "\n",
        "session.execute(\"alter table airbnb.berlin add duration_rent int;\")\n",
        "\n",
        "session.execute(\"create index on airbnb.berlin(room_type);\")\n",
        "\n",
        "rows = session.execute(\"select id,price,minimum_nights from airbnb.berlin where room_type='Private room';\")\n",
        "num = 0\n",
        "\n",
        "for row in rows:\n",
        "    if row[1] is not None and row[2] is not None:\n",
        "        num = num+1\n",
        "        dr = int(row[1])*int(row[2])\n",
        "        session.execute(\"update airbnb.berlin set duration_rent={0} where id={1};\".format(dr,int(row[0])))\n",
        "        print(num)\n",
        "\n",
        "print(num,\"rows updated\")\n",
        "\n",
        "\"\"\"\n",
        "\n",
        "session.execute(\"create index on airbnb.berlin(duration_rent);\")\n",
        "\n",
        "result = session.execute(\"select id,duration_rent,minimum_nights,neighbourhood from airbnb.berlin where room_type='Private room' order by duration_rent ASC limit 3;\")\n",
        "num = 0\n",
        "\n",
        "for l in result:\n",
        "    print(\"Listing\",l[0],\"costs $\",l[1],\"for\",l[2],\"day(s) and is in\",l[3])\n",
        "\n",
        "\"\"\"\n",
        "\n",
        "######### WILL NOT BE POSSIBLE WITHOUT DROPPING TABLE THEN MAKING DURATION_RENT AS CLUSTERING KEY + ORDER BY ASC #########"
      ]
    }
  ],
  "metadata": {
    "colab": {
      "provenance": []
    },
    "kernelspec": {
      "display_name": "Python 3",
      "name": "python3"
    },
    "language_info": {
      "codemirror_mode": {
        "name": "ipython",
        "version": 3
      },
      "file_extension": ".py",
      "mimetype": "text/x-python",
      "name": "python",
      "nbconvert_exporter": "python",
      "pygments_lexer": "ipython3",
      "version": "3.10.11"
    }
  },
  "nbformat": 4,
  "nbformat_minor": 0
}
