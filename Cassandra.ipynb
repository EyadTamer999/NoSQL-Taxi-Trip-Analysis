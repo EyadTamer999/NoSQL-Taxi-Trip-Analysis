{
  "cells": [
    {
      "cell_type": "code",
      "execution_count": 1,
      "metadata": {
        "colab": {
          "base_uri": "https://localhost:8080/"
        },
        "id": "LOaDZz8bJBTE",
        "outputId": "1925aaa7-bb67-4c83-8979-b632acccf137"
      },
      "outputs": [
        {
          "name": "stdout",
          "output_type": "stream",
          "text": [
            "Collecting cassandra-driver\n",
            "  Downloading cassandra_driver-3.29.0-cp310-cp310-manylinux_2_17_x86_64.manylinux2014_x86_64.whl (18.8 MB)\n",
            "\u001b[2K     \u001b[90m━━━━━━━━━━━━━━━━━━━━━━━━━━━━━━━━━━━━━━━━\u001b[0m \u001b[32m18.8/18.8 MB\u001b[0m \u001b[31m55.7 MB/s\u001b[0m eta \u001b[36m0:00:00\u001b[0m\n",
            "\u001b[?25hCollecting geomet<0.3,>=0.1 (from cassandra-driver)\n",
            "  Downloading geomet-0.2.1.post1-py3-none-any.whl (18 kB)\n",
            "Requirement already satisfied: click in /usr/local/lib/python3.10/dist-packages (from geomet<0.3,>=0.1->cassandra-driver) (8.1.7)\n",
            "Requirement already satisfied: six in /usr/local/lib/python3.10/dist-packages (from geomet<0.3,>=0.1->cassandra-driver) (1.16.0)\n",
            "Installing collected packages: geomet, cassandra-driver\n",
            "Successfully installed cassandra-driver-3.29.0 geomet-0.2.1.post1\n"
          ]
        }
      ],
      "source": [
        "!pip install cassandra-driver"
      ]
    },
    {
      "cell_type": "code",
      "execution_count": 1,
      "metadata": {
        "colab": {
          "base_uri": "https://localhost:8080/"
        },
        "id": "lYcUs8fDJLl-",
        "outputId": "b0a25fba-2e1e-466b-a687-a0612a89b65b"
      },
      "outputs": [],
      "source": [
        "from cassandra.cluster import Cluster\n",
        "from cassandra.auth import PlainTextAuthProvider\n",
        "\n",
        "cloud_config = {\n",
        "    \"secure_connect_bundle\": \"secure-connect-nyc-yellow-taxi-db.zip\"  # replace <</PATH/TO/>> with the path where your downloaded bundle was downloaded (make sure to place this python file in the same place as well)\n",
        "}\n",
        "auth_provider = PlainTextAuthProvider(\n",
        "    \"yiGvbsUpoEqllXBsXXwOjZBc\",\n",
        "    \"p,b-6bj-cMT1IR3dv,kGm6A8Q+yZg0jcMHWivO2XU0y9+evSLpYZ923mLvs,ocJ-CLeOdYI8EeiBoa7jR.r3fOFtpiQwO+Zdb2aq4FqaO4xSEXj_TF4KFkHoAs5N6mt_\",\n",
        ")  # replace <<CLIENT ID>> and <<CLIENT SECRET>> with the ClientID and Client Secret from your generated token\n",
        "cluster = Cluster(cloud=cloud_config, auth_provider=auth_provider)\n",
        "session = cluster.connect()\n",
        "session.set_keyspace(\n",
        "    \"nyc_yellow_taxi_db\")  # replace <<KEYSPACENAME>> with the name of the keyspace you created in DataStax"
      ]
    },
    {
      "cell_type": "code",
      "execution_count": 27,
      "metadata": {
        "id": "thZraJ3zTmAI"
      },
      "outputs": [],
      "source": [
        "# -✔️- Reading listings from CSV into dataframe\n",
        "\n",
        "import pandas as pd\n",
        "\n",
        "# read the csv files into the dataframes\n",
        "trip_data = pd.read_csv('taxi_trip_data.csv')\n",
        "zone_data = pd.read_csv('taxi_zone_geo.csv')"
      ]
    },
    {
      "cell_type": "code",
      "execution_count": 28,
      "metadata": {
        "id": "tVyxB7TK3fFH"
      },
      "outputs": [],
      "source": [
        "# a) Remove the columns “store_and_fwd_flag”, “rate_code” and “total_amount” from taxitripdata\n",
        "trip_data = trip_data.drop(['store_and_fwd_flag', 'rate_code', 'total_amount'], axis=1)\n"
      ]
    },
    {
      "cell_type": "code",
      "execution_count": 29,
      "metadata": {
        "id": "qxMzH71f_XSC"
      },
      "outputs": [],
      "source": [
        "# b) Drop rows with missing details\n",
        "trip_data = trip_data.dropna()\n"
      ]
    },
    {
      "cell_type": "code",
      "execution_count": 30,
      "metadata": {},
      "outputs": [
        {
          "name": "stdout",
          "output_type": "stream",
          "text": [
            "<class 'pandas.core.frame.DataFrame'>\n",
            "RangeIndex: 10000000 entries, 0 to 9999999\n",
            "Data columns (total 14 columns):\n",
            " #   Column               Dtype  \n",
            "---  ------               -----  \n",
            " 0   vendor_id            int64  \n",
            " 1   pickup_datetime      object \n",
            " 2   dropoff_datetime     object \n",
            " 3   passenger_count      int64  \n",
            " 4   trip_distance        float64\n",
            " 5   payment_type         int64  \n",
            " 6   fare_amount          float64\n",
            " 7   extra                float64\n",
            " 8   mta_tax              float64\n",
            " 9   tip_amount           float64\n",
            " 10  tolls_amount         float64\n",
            " 11  imp_surcharge        float64\n",
            " 12  pickup_location_id   int64  \n",
            " 13  dropoff_location_id  int64  \n",
            "dtypes: float64(7), int64(5), object(2)\n",
            "memory usage: 1.0+ GB\n"
          ]
        }
      ],
      "source": [
        "trip_data.info()"
      ]
    },
    {
      "cell_type": "code",
      "execution_count": 31,
      "metadata": {},
      "outputs": [
        {
          "name": "stdout",
          "output_type": "stream",
          "text": [
            "<class 'pandas.core.frame.DataFrame'>\n",
            "RangeIndex: 263 entries, 0 to 262\n",
            "Data columns (total 4 columns):\n",
            " #   Column     Non-Null Count  Dtype \n",
            "---  ------     --------------  ----- \n",
            " 0   zone_id    263 non-null    int64 \n",
            " 1   zone_name  263 non-null    object\n",
            " 2   borough    263 non-null    object\n",
            " 3   zone_geom  263 non-null    object\n",
            "dtypes: int64(1), object(3)\n",
            "memory usage: 8.3+ KB\n"
          ]
        }
      ],
      "source": [
        "zone_data.info()"
      ]
    },
    {
      "cell_type": "code",
      "execution_count": 32,
      "metadata": {
        "id": "CoIq7Lc_LSw4"
      },
      "outputs": [
        {
          "data": {
            "text/plain": [
              "<cassandra.cluster.ResultSet at 0x2af9e7bcdf0>"
            ]
          },
          "execution_count": 32,
          "metadata": {},
          "output_type": "execute_result"
        }
      ],
      "source": [
        "# columns in the trip_data table:\n",
        "# vendor_id, pickup_datetime, dropoff_datetime, passenger_count, trip_distance, rate_code, store_and_fwd_flag, payment_type, fare_amount, extra, mta_tax, tip_amount, tolls_amount,\n",
        "# imp_surcharge, total_amount, pickup_location_id, dropoff_location_id, pickup_location, dropoff_location\n",
        "#  zone_id_x zone_name_x  borough_x  zone_geom_x  zone_id_y zone_name_y  borough_y  zone_geom_y\n",
        "\n",
        "session.execute(\n",
        "    \"\"\"\n",
        "    DROP TABLE trip_data;\n",
        "    \"\"\"\n",
        ")\n",
        "\n",
        "# create the table for trip_data\n",
        "session.execute(\n",
        "    \"\"\"\n",
        "CREATE TABLE trip_data (\n",
        "    trip_id UUID PRIMARY KEY,\n",
        "    vendor_id INT,\n",
        "    pickup_datetime TIMESTAMP,\n",
        "    dropoff_datetime TIMESTAMP,\n",
        "    passenger_count FLOAT,\n",
        "    trip_distance FLOAT,\n",
        "    payment_type INT,\n",
        "    fare_amount FLOAT,\n",
        "    extra FLOAT,\n",
        "    mta_tax FLOAT,\n",
        "    tip_amount FLOAT,\n",
        "    tolls_amount FLOAT,\n",
        "    imp_surcharge FLOAT,\n",
        "    pickup_location INT,\n",
        "    dropoff_location INT,\n",
        ");\n",
        "    \"\"\"\n",
        ")"
      ]
    },
    {
      "cell_type": "code",
      "execution_count": 39,
      "metadata": {
        "colab": {
          "base_uri": "https://localhost:8080/",
          "height": 349
        },
        "id": "lAO369as3fFN",
        "outputId": "ec6c399d-f981-4393-f1bd-dc651e8c8ff3"
      },
      "outputs": [],
      "source": [
        "# c) Insert the data in the database as you see fit\n",
        "\n",
        "# Insert the data into the trip_data table\n",
        "# instert only 20,000 rows\n",
        "\n",
        "for index, row in trip_data.head(20000).iterrows():\n",
        "\n",
        "    # Extract data for insertion\n",
        "    vendor_id = row['vendor_id']\n",
        "    pickup_datetime = row['pickup_datetime']\n",
        "    dropoff_datetime = row['dropoff_datetime']\n",
        "    passenger_count = row['passenger_count']\n",
        "    trip_distance = row['trip_distance']\n",
        "    payment_type = row['payment_type']\n",
        "    fare_amount = row['fare_amount']\n",
        "    extra = row['extra']\n",
        "    mta_tax = row['mta_tax']\n",
        "    tip_amount = row['tip_amount']\n",
        "    tolls_amount = row['tolls_amount']\n",
        "    imp_surcharge = row['imp_surcharge']\n",
        "    pickup_location = row['pickup_location_id']\n",
        "    dropoff_location = row['dropoff_location_id']\n",
        "\n",
        "    # Insert the data into the trip_data table\n",
        "    session.execute(\n",
        "        \"\"\"\n",
        "        INSERT INTO trip_data (trip_id,vendor_id, pickup_datetime, dropoff_datetime, passenger_count, trip_distance, payment_type, fare_amount, extra, mta_tax, tip_amount, tolls_amount, imp_surcharge, pickup_location, dropoff_location)\n",
        "        VALUES (UUID(), %s, %s, %s, %s, %s, %s, %s, %s, %s, %s, %s, %s, %s, %s)\n",
        "        \"\"\",\n",
        "        (\n",
        "            vendor_id,\n",
        "            pickup_datetime,\n",
        "            dropoff_datetime,\n",
        "            passenger_count,\n",
        "            trip_distance,\n",
        "            payment_type,\n",
        "            fare_amount,\n",
        "            extra,\n",
        "            mta_tax,\n",
        "            tip_amount,\n",
        "            tolls_amount,\n",
        "            imp_surcharge,\n",
        "            pickup_location,\n",
        "            dropoff_location,\n",
        "        ),\n",
        "    )"
      ]
    },
    {
      "cell_type": "code",
      "execution_count": 42,
      "metadata": {
        "id": "u99c23t33fFP"
      },
      "outputs": [
        {
          "ename": "KeyError",
          "evalue": "'trip_id'",
          "output_type": "error",
          "traceback": [
            "\u001b[1;31m---------------------------------------------------------------------------\u001b[0m",
            "\u001b[1;31mKeyError\u001b[0m                                  Traceback (most recent call last)",
            "File \u001b[1;32m~\\AppData\\Local\\Packages\\PythonSoftwareFoundation.Python.3.10_qbz5n2kfra8p0\\LocalCache\\local-packages\\Python310\\site-packages\\pandas\\core\\indexes\\base.py:3652\u001b[0m, in \u001b[0;36mIndex.get_loc\u001b[1;34m(self, key)\u001b[0m\n\u001b[0;32m   3651\u001b[0m \u001b[38;5;28;01mtry\u001b[39;00m:\n\u001b[1;32m-> 3652\u001b[0m     \u001b[38;5;28;01mreturn\u001b[39;00m \u001b[38;5;28;43mself\u001b[39;49m\u001b[38;5;241;43m.\u001b[39;49m\u001b[43m_engine\u001b[49m\u001b[38;5;241;43m.\u001b[39;49m\u001b[43mget_loc\u001b[49m\u001b[43m(\u001b[49m\u001b[43mcasted_key\u001b[49m\u001b[43m)\u001b[49m\n\u001b[0;32m   3653\u001b[0m \u001b[38;5;28;01mexcept\u001b[39;00m \u001b[38;5;167;01mKeyError\u001b[39;00m \u001b[38;5;28;01mas\u001b[39;00m err:\n",
            "File \u001b[1;32m~\\AppData\\Local\\Packages\\PythonSoftwareFoundation.Python.3.10_qbz5n2kfra8p0\\LocalCache\\local-packages\\Python310\\site-packages\\pandas\\_libs\\index.pyx:147\u001b[0m, in \u001b[0;36mpandas._libs.index.IndexEngine.get_loc\u001b[1;34m()\u001b[0m\n",
            "File \u001b[1;32m~\\AppData\\Local\\Packages\\PythonSoftwareFoundation.Python.3.10_qbz5n2kfra8p0\\LocalCache\\local-packages\\Python310\\site-packages\\pandas\\_libs\\index.pyx:176\u001b[0m, in \u001b[0;36mpandas._libs.index.IndexEngine.get_loc\u001b[1;34m()\u001b[0m\n",
            "File \u001b[1;32mpandas\\_libs\\hashtable_class_helper.pxi:7080\u001b[0m, in \u001b[0;36mpandas._libs.hashtable.PyObjectHashTable.get_item\u001b[1;34m()\u001b[0m\n",
            "File \u001b[1;32mpandas\\_libs\\hashtable_class_helper.pxi:7088\u001b[0m, in \u001b[0;36mpandas._libs.hashtable.PyObjectHashTable.get_item\u001b[1;34m()\u001b[0m\n",
            "\u001b[1;31mKeyError\u001b[0m: 'trip_id'",
            "\nThe above exception was the direct cause of the following exception:\n",
            "\u001b[1;31mKeyError\u001b[0m                                  Traceback (most recent call last)",
            "Cell \u001b[1;32mIn[42], line 19\u001b[0m\n\u001b[0;32m     10\u001b[0m trip_duration \u001b[38;5;241m=\u001b[39m row[\u001b[38;5;124m'\u001b[39m\u001b[38;5;124mtrip_duration\u001b[39m\u001b[38;5;124m'\u001b[39m]\n\u001b[0;32m     12\u001b[0m \u001b[38;5;66;03m# Insert the data into the trip_data table\u001b[39;00m\n\u001b[0;32m     13\u001b[0m session\u001b[38;5;241m.\u001b[39mexecute(\n\u001b[0;32m     14\u001b[0m \u001b[38;5;250m    \u001b[39m\u001b[38;5;124;03m\"\"\"\u001b[39;00m\n\u001b[0;32m     15\u001b[0m \u001b[38;5;124;03m    UPDATE trip_data\u001b[39;00m\n\u001b[0;32m     16\u001b[0m \u001b[38;5;124;03m    SET trip_duration = %s\u001b[39;00m\n\u001b[0;32m     17\u001b[0m \u001b[38;5;124;03m    WHERE trip_id = %s\u001b[39;00m\n\u001b[0;32m     18\u001b[0m \u001b[38;5;124;03m    \"\"\"\u001b[39;00m,\n\u001b[1;32m---> 19\u001b[0m     (trip_duration, \u001b[43mrow\u001b[49m\u001b[43m[\u001b[49m\u001b[38;5;124;43m'\u001b[39;49m\u001b[38;5;124;43mtrip_id\u001b[39;49m\u001b[38;5;124;43m'\u001b[39;49m\u001b[43m]\u001b[49m),\n\u001b[0;32m     20\u001b[0m )\n",
            "File \u001b[1;32m~\\AppData\\Local\\Packages\\PythonSoftwareFoundation.Python.3.10_qbz5n2kfra8p0\\LocalCache\\local-packages\\Python310\\site-packages\\pandas\\core\\series.py:1007\u001b[0m, in \u001b[0;36mSeries.__getitem__\u001b[1;34m(self, key)\u001b[0m\n\u001b[0;32m   1004\u001b[0m     \u001b[38;5;28;01mreturn\u001b[39;00m \u001b[38;5;28mself\u001b[39m\u001b[38;5;241m.\u001b[39m_values[key]\n\u001b[0;32m   1006\u001b[0m \u001b[38;5;28;01melif\u001b[39;00m key_is_scalar:\n\u001b[1;32m-> 1007\u001b[0m     \u001b[38;5;28;01mreturn\u001b[39;00m \u001b[38;5;28;43mself\u001b[39;49m\u001b[38;5;241;43m.\u001b[39;49m\u001b[43m_get_value\u001b[49m\u001b[43m(\u001b[49m\u001b[43mkey\u001b[49m\u001b[43m)\u001b[49m\n\u001b[0;32m   1009\u001b[0m \u001b[38;5;28;01mif\u001b[39;00m is_hashable(key):\n\u001b[0;32m   1010\u001b[0m     \u001b[38;5;66;03m# Otherwise index.get_value will raise InvalidIndexError\u001b[39;00m\n\u001b[0;32m   1011\u001b[0m     \u001b[38;5;28;01mtry\u001b[39;00m:\n\u001b[0;32m   1012\u001b[0m         \u001b[38;5;66;03m# For labels that don't resolve as scalars like tuples and frozensets\u001b[39;00m\n",
            "File \u001b[1;32m~\\AppData\\Local\\Packages\\PythonSoftwareFoundation.Python.3.10_qbz5n2kfra8p0\\LocalCache\\local-packages\\Python310\\site-packages\\pandas\\core\\series.py:1116\u001b[0m, in \u001b[0;36mSeries._get_value\u001b[1;34m(self, label, takeable)\u001b[0m\n\u001b[0;32m   1113\u001b[0m     \u001b[38;5;28;01mreturn\u001b[39;00m \u001b[38;5;28mself\u001b[39m\u001b[38;5;241m.\u001b[39m_values[label]\n\u001b[0;32m   1115\u001b[0m \u001b[38;5;66;03m# Similar to Index.get_value, but we do not fall back to positional\u001b[39;00m\n\u001b[1;32m-> 1116\u001b[0m loc \u001b[38;5;241m=\u001b[39m \u001b[38;5;28;43mself\u001b[39;49m\u001b[38;5;241;43m.\u001b[39;49m\u001b[43mindex\u001b[49m\u001b[38;5;241;43m.\u001b[39;49m\u001b[43mget_loc\u001b[49m\u001b[43m(\u001b[49m\u001b[43mlabel\u001b[49m\u001b[43m)\u001b[49m\n\u001b[0;32m   1118\u001b[0m \u001b[38;5;28;01mif\u001b[39;00m is_integer(loc):\n\u001b[0;32m   1119\u001b[0m     \u001b[38;5;28;01mreturn\u001b[39;00m \u001b[38;5;28mself\u001b[39m\u001b[38;5;241m.\u001b[39m_values[loc]\n",
            "File \u001b[1;32m~\\AppData\\Local\\Packages\\PythonSoftwareFoundation.Python.3.10_qbz5n2kfra8p0\\LocalCache\\local-packages\\Python310\\site-packages\\pandas\\core\\indexes\\base.py:3654\u001b[0m, in \u001b[0;36mIndex.get_loc\u001b[1;34m(self, key)\u001b[0m\n\u001b[0;32m   3652\u001b[0m     \u001b[38;5;28;01mreturn\u001b[39;00m \u001b[38;5;28mself\u001b[39m\u001b[38;5;241m.\u001b[39m_engine\u001b[38;5;241m.\u001b[39mget_loc(casted_key)\n\u001b[0;32m   3653\u001b[0m \u001b[38;5;28;01mexcept\u001b[39;00m \u001b[38;5;167;01mKeyError\u001b[39;00m \u001b[38;5;28;01mas\u001b[39;00m err:\n\u001b[1;32m-> 3654\u001b[0m     \u001b[38;5;28;01mraise\u001b[39;00m \u001b[38;5;167;01mKeyError\u001b[39;00m(key) \u001b[38;5;28;01mfrom\u001b[39;00m \u001b[38;5;21;01merr\u001b[39;00m\n\u001b[0;32m   3655\u001b[0m \u001b[38;5;28;01mexcept\u001b[39;00m \u001b[38;5;167;01mTypeError\u001b[39;00m:\n\u001b[0;32m   3656\u001b[0m     \u001b[38;5;66;03m# If we have a listlike key, _check_indexing_error will raise\u001b[39;00m\n\u001b[0;32m   3657\u001b[0m     \u001b[38;5;66;03m#  InvalidIndexError. Otherwise we fall through and re-raise\u001b[39;00m\n\u001b[0;32m   3658\u001b[0m     \u001b[38;5;66;03m#  the TypeError.\u001b[39;00m\n\u001b[0;32m   3659\u001b[0m     \u001b[38;5;28mself\u001b[39m\u001b[38;5;241m.\u001b[39m_check_indexing_error(key)\n",
            "\u001b[1;31mKeyError\u001b[0m: 'trip_id'"
          ]
        }
      ],
      "source": [
        "# d) Calculate the duration for each trip and add it as a new field in your database (e7sb el duration men pickup date le dropoff date)\n",
        "# add a new column to the trip_data dataframe for the duration of the trip\n"
      ]
    },
    {
      "cell_type": "code",
      "execution_count": null,
      "metadata": {
        "id": "t-fluENg3fFR"
      },
      "outputs": [],
      "source": [
        "# e) Use “fare_amount”, “extra”, “mta_tax”, “tip_amount”, “tolls_amount” and “imp_surcharge” to calculate the total trip cost and add it as a new field in your database (e7sb el total cost)"
      ]
    },
    {
      "cell_type": "code",
      "execution_count": null,
      "metadata": {
        "id": "pslVDfd83fFS"
      },
      "outputs": [],
      "source": [
        "# f) What is the most common payment type used per time of day? Hint: time of day meaning morning, afternoon, evening, night\n",
        "# create a new column in the trip_data dataframe for the time of day\n"
      ]
    },
    {
      "cell_type": "code",
      "execution_count": null,
      "metadata": {
        "id": "Yf264jIh3fFS"
      },
      "outputs": [],
      "source": [
        "# g) What is the average tip amount per passenger count?\n",
        "# query the trip_data table to find the average tip amount per passenger count\n"
      ]
    },
    {
      "cell_type": "code",
      "execution_count": 41,
      "metadata": {
        "id": "RCqg1efA3fFT"
      },
      "outputs": [
        {
          "ename": "SyntaxException",
          "evalue": "<Error from server: code=2000 [Syntax error in CQL query] message=\"line 4:25 no viable alternative at input '.' (...(*)    FROM trip_data    WHERE [pickup_location]....)\">",
          "output_type": "error",
          "traceback": [
            "\u001b[1;31m---------------------------------------------------------------------------\u001b[0m",
            "\u001b[1;31mSyntaxException\u001b[0m                           Traceback (most recent call last)",
            "Cell \u001b[1;32mIn[41], line 3\u001b[0m\n\u001b[0;32m      1\u001b[0m \u001b[38;5;66;03m# h) What are the best 5 locations for drivers to pick up passengers from? (based on the trip count)\u001b[39;00m\n\u001b[0;32m      2\u001b[0m \u001b[38;5;66;03m# query the trip_data table to find the best 5 locations for drivers to pick up passengers from\u001b[39;00m\n\u001b[1;32m----> 3\u001b[0m result \u001b[38;5;241m=\u001b[39m \u001b[43msession\u001b[49m\u001b[38;5;241;43m.\u001b[39;49m\u001b[43mexecute\u001b[49m\u001b[43m(\u001b[49m\n\u001b[0;32m      4\u001b[0m \u001b[38;5;250;43m    \u001b[39;49m\u001b[38;5;124;43;03m\"\"\"\u001b[39;49;00m\n\u001b[0;32m      5\u001b[0m \u001b[38;5;124;43;03m    SELECT pickup_location.zone_name, COUNT(*)\u001b[39;49;00m\n\u001b[0;32m      6\u001b[0m \u001b[38;5;124;43;03m    FROM trip_data\u001b[39;49;00m\n\u001b[0;32m      7\u001b[0m \u001b[38;5;124;43;03m    WHERE pickup_location.zone_name IS NOT NULL\u001b[39;49;00m\n\u001b[0;32m      8\u001b[0m \u001b[38;5;124;43;03m    GROUP BY pickup_location.zone_name\u001b[39;49;00m\n\u001b[0;32m      9\u001b[0m \u001b[38;5;124;43;03m    ORDER BY COUNT(*) DESC\u001b[39;49;00m\n\u001b[0;32m     10\u001b[0m \u001b[38;5;124;43;03m    LIMIT 5\u001b[39;49;00m\n\u001b[0;32m     11\u001b[0m \u001b[38;5;124;43;03m    \"\"\"\u001b[39;49;00m\n\u001b[0;32m     12\u001b[0m \u001b[43m)\u001b[49m\n\u001b[0;32m     14\u001b[0m \u001b[38;5;66;03m# print the best 5 locations for drivers to pick up passengers from\u001b[39;00m\n\u001b[0;32m     15\u001b[0m \u001b[38;5;28;01mfor\u001b[39;00m row \u001b[38;5;129;01min\u001b[39;00m result:\n",
            "File \u001b[1;32m~\\AppData\\Local\\Packages\\PythonSoftwareFoundation.Python.3.10_qbz5n2kfra8p0\\LocalCache\\local-packages\\Python310\\site-packages\\cassandra\\cluster.py:2677\u001b[0m, in \u001b[0;36mcassandra.cluster.Session.execute\u001b[1;34m()\u001b[0m\n",
            "File \u001b[1;32m~\\AppData\\Local\\Packages\\PythonSoftwareFoundation.Python.3.10_qbz5n2kfra8p0\\LocalCache\\local-packages\\Python310\\site-packages\\cassandra\\cluster.py:4956\u001b[0m, in \u001b[0;36mcassandra.cluster.ResponseFuture.result\u001b[1;34m()\u001b[0m\n",
            "\u001b[1;31mSyntaxException\u001b[0m: <Error from server: code=2000 [Syntax error in CQL query] message=\"line 4:25 no viable alternative at input '.' (...(*)    FROM trip_data    WHERE [pickup_location]....)\">"
          ]
        }
      ],
      "source": [
        "# h) What are the best 5 locations for drivers to pick up passengers from? (based on the trip count)\n",
        "# query the trip_data table to find the best 5 locations for drivers to pick up passengers from\n"
      ]
    },
    {
      "cell_type": "code",
      "execution_count": null,
      "metadata": {
        "id": "SZ23Icdt3fFT"
      },
      "outputs": [],
      "source": [
        "# Is there a correlation between trip distance and the tip amount? (not to be done using the correlation calculation)\n",
        "# create a new cloumn tip percentage, and calculate the tip percentage for each trip by dividing the tip amount by the total amount, and compare it to the trip distance"
      ]
    },
    {
      "cell_type": "code",
      "execution_count": null,
      "metadata": {
        "id": "Ifx7XBvQ3fFU"
      },
      "outputs": [],
      "source": [
        "# Display the results of f, g and h using visualizations (will be graded based on the creativity and efficiency of the visualizations)\n"
      ]
    }
  ],
  "metadata": {
    "colab": {
      "provenance": []
    },
    "kernelspec": {
      "display_name": "Python 3",
      "name": "python3"
    },
    "language_info": {
      "codemirror_mode": {
        "name": "ipython",
        "version": 3
      },
      "file_extension": ".py",
      "mimetype": "text/x-python",
      "name": "python",
      "nbconvert_exporter": "python",
      "pygments_lexer": "ipython3",
      "version": "3.10.11"
    }
  },
  "nbformat": 4,
  "nbformat_minor": 0
}
