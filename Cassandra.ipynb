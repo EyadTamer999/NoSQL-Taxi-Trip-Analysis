{
  "cells": [
    {
      "cell_type": "code",
      "execution_count": 1,
      "metadata": {
        "colab": {
          "base_uri": "https://localhost:8080/"
        },
        "id": "LOaDZz8bJBTE",
        "outputId": "e6930c71-b3c0-4bf2-efa6-3a8f4cc89675"
      },
      "outputs": [
        {
          "name": "stdout",
          "output_type": "stream",
          "text": [
            "Collecting cassandra-driver\n",
            "  Downloading cassandra_driver-3.29.0-cp310-cp310-win_amd64.whl (2.7 MB)\n",
            "                                              0.0/2.7 MB ? eta -:--:--\n",
            "                                              0.0/2.7 MB 660.6 kB/s eta 0:00:05\n",
            "                                              0.1/2.7 MB 656.4 kB/s eta 0:00:05\n",
            "     -                                        0.1/2.7 MB 939.4 kB/s eta 0:00:03\n",
            "     --                                       0.2/2.7 MB 1.1 MB/s eta 0:00:03\n",
            "     --                                       0.2/2.7 MB 1.1 MB/s eta 0:00:03\n",
            "     ----                                     0.3/2.7 MB 1.5 MB/s eta 0:00:02\n",
            "     ------                                   0.5/2.7 MB 1.8 MB/s eta 0:00:02\n",
            "     -------                                  0.5/2.7 MB 1.6 MB/s eta 0:00:02\n",
            "     ---------                                0.6/2.7 MB 1.9 MB/s eta 0:00:02\n",
            "     -----------                              0.8/2.7 MB 2.2 MB/s eta 0:00:01\n",
            "     ------------                             0.9/2.7 MB 2.2 MB/s eta 0:00:01\n",
            "     -------------                            1.0/2.7 MB 2.2 MB/s eta 0:00:01\n",
            "     -------------                            1.0/2.7 MB 2.2 MB/s eta 0:00:01\n",
            "     ---------------                          1.1/2.7 MB 2.1 MB/s eta 0:00:01\n",
            "     ------------------                       1.3/2.7 MB 2.4 MB/s eta 0:00:01\n",
            "     --------------------                     1.4/2.7 MB 2.4 MB/s eta 0:00:01\n",
            "     ---------------------                    1.5/2.7 MB 2.3 MB/s eta 0:00:01\n",
            "     ----------------------                   1.6/2.7 MB 2.4 MB/s eta 0:00:01\n",
            "     -----------------------                  1.6/2.7 MB 2.4 MB/s eta 0:00:01\n",
            "     -------------------------                1.8/2.7 MB 2.4 MB/s eta 0:00:01\n",
            "     ---------------------------              1.9/2.7 MB 2.5 MB/s eta 0:00:01\n",
            "     ---------------------------              1.9/2.7 MB 2.5 MB/s eta 0:00:01\n",
            "     ---------------------------              1.9/2.7 MB 2.3 MB/s eta 0:00:01\n",
            "     ---------------------------              1.9/2.7 MB 2.3 MB/s eta 0:00:01\n",
            "     -----------------------------            2.0/2.7 MB 2.2 MB/s eta 0:00:01\n",
            "     --------------------------------         2.2/2.7 MB 2.3 MB/s eta 0:00:01\n",
            "     ----------------------------------       2.4/2.7 MB 2.4 MB/s eta 0:00:01\n",
            "     -----------------------------------      2.4/2.7 MB 2.4 MB/s eta 0:00:01\n",
            "     ------------------------------------     2.5/2.7 MB 2.4 MB/s eta 0:00:01\n",
            "     --------------------------------------   2.7/2.7 MB 2.4 MB/s eta 0:00:01\n",
            "     ---------------------------------------  2.7/2.7 MB 2.5 MB/s eta 0:00:01\n",
            "     ---------------------------------------- 2.7/2.7 MB 2.4 MB/s eta 0:00:00\n",
            "Collecting geomet<0.3,>=0.1 (from cassandra-driver)\n",
            "  Using cached geomet-0.2.1.post1-py3-none-any.whl (18 kB)\n",
            "Requirement already satisfied: click in c:\\users\\eyad tamer\\appdata\\local\\packages\\pythonsoftwarefoundation.python.3.10_qbz5n2kfra8p0\\localcache\\local-packages\\python310\\site-packages (from geomet<0.3,>=0.1->cassandra-driver) (8.1.3)\n",
            "Requirement already satisfied: six in c:\\users\\eyad tamer\\appdata\\local\\packages\\pythonsoftwarefoundation.python.3.10_qbz5n2kfra8p0\\localcache\\local-packages\\python310\\site-packages (from geomet<0.3,>=0.1->cassandra-driver) (1.16.0)\n",
            "Requirement already satisfied: colorama in c:\\users\\eyad tamer\\appdata\\local\\packages\\pythonsoftwarefoundation.python.3.10_qbz5n2kfra8p0\\localcache\\local-packages\\python310\\site-packages (from click->geomet<0.3,>=0.1->cassandra-driver) (0.4.6)\n",
            "Installing collected packages: geomet, cassandra-driver\n",
            "Successfully installed cassandra-driver-3.29.0 geomet-0.2.1.post1\n",
            "Note: you may need to restart the kernel to use updated packages.\n"
          ]
        },
        {
          "name": "stderr",
          "output_type": "stream",
          "text": [
            "\n",
            "[notice] A new release of pip is available: 23.1.2 -> 24.0\n",
            "[notice] To update, run: C:\\Users\\Eyad Tamer\\AppData\\Local\\Microsoft\\WindowsApps\\PythonSoftwareFoundation.Python.3.10_qbz5n2kfra8p0\\python.exe -m pip install --upgrade pip\n"
          ]
        }
      ],
      "source": [
        "pip install cassandra-driver"
      ]
    },
    {
      "cell_type": "code",
      "execution_count": 1,
      "metadata": {
        "id": "lYcUs8fDJLl-"
      },
      "outputs": [],
      "source": [
        "from cassandra.cluster import Cluster\n",
        "from cassandra.auth import PlainTextAuthProvider\n",
        "\n",
        "cloud_config = {\n",
        "    \"secure_connect_bundle\": \"secure-connect-nyc-yellow-taxi-db.zip\"  # replace <</PATH/TO/>> with the path where your downloaded bundle was downloaded (make sure to place this python file in the same place as well)\n",
        "}\n",
        "auth_provider = PlainTextAuthProvider(\n",
        "    \"yiGvbsUpoEqllXBsXXwOjZBc\",\n",
        "    \"p,b-6bj-cMT1IR3dv,kGm6A8Q+yZg0jcMHWivO2XU0y9+evSLpYZ923mLvs,ocJ-CLeOdYI8EeiBoa7jR.r3fOFtpiQwO+Zdb2aq4FqaO4xSEXj_TF4KFkHoAs5N6mt_\",\n",
        ")  # replace <<CLIENT ID>> and <<CLIENT SECRET>> with the ClientID and Client Secret from your generated token\n",
        "cluster = Cluster(cloud=cloud_config, auth_provider=auth_provider)\n",
        "session = cluster.connect()\n",
        "session.set_keyspace(\n",
        "    \"nyc_yellow_taxi_db\")  # replace <<KEYSPACENAME>> with the name of the keyspace you created in DataStax"
      ]
    },
    {
      "cell_type": "code",
      "execution_count": 2,
      "metadata": {
        "id": "thZraJ3zTmAI"
      },
      "outputs": [],
      "source": [
        "# -✔️- Reading listings from CSV into dataframe\n",
        "\n",
        "import pandas as pd\n",
        "\n",
        "# read the csv files into the dataframes\n",
        "trip_data = pd.read_csv('taxi_trip_data.csv')\n",
        "zone_geo = pd.read_csv('taxi_zone_geo.csv')"
      ]
    },
    {
      "cell_type": "code",
      "execution_count": null,
      "metadata": {},
      "outputs": [],
      "source": [
        "# a) Remove the columns “store_and_fwd_flag”, “rate_code” and “total_amount” from taxitripdata\n",
        "trip_data = trip_data.drop(columns=['store_and_fwd_flag', 'rate_code', 'total_amount'])\n",
        "\n"
      ]
    },
    {
      "cell_type": "code",
      "execution_count": null,
      "metadata": {},
      "outputs": [],
      "source": [
        "# b) Drop rows with missing essential details that would be required to fulfill the upcoming queries\n",
        "trip_data = trip_data.dropna()"
      ]
    },
    {
      "cell_type": "code",
      "execution_count": null,
      "metadata": {},
      "outputs": [],
      "source": [
        "# c) Insert the data in the database as you see fit\n"
      ]
    }
  ],
  "metadata": {
    "colab": {
      "provenance": []
    },
    "kernelspec": {
      "display_name": "Python 3",
      "name": "python3"
    },
    "language_info": {
      "codemirror_mode": {
        "name": "ipython",
        "version": 3
      },
      "file_extension": ".py",
      "mimetype": "text/x-python",
      "name": "python",
      "nbconvert_exporter": "python",
      "pygments_lexer": "ipython3",
      "version": "3.10.11"
    }
  },
  "nbformat": 4,
  "nbformat_minor": 0
}
