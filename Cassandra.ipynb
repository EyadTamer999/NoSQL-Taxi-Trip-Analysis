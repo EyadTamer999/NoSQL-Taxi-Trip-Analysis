{
  "cells": [
    {
      "cell_type": "code",
      "execution_count": 1,
      "metadata": {
        "colab": {
          "base_uri": "https://localhost:8080/"
        },
        "id": "LOaDZz8bJBTE",
        "outputId": "1925aaa7-bb67-4c83-8979-b632acccf137"
      },
      "outputs": [
        {
          "output_type": "stream",
          "name": "stdout",
          "text": [
            "Collecting cassandra-driver\n",
            "  Downloading cassandra_driver-3.29.0-cp310-cp310-manylinux_2_17_x86_64.manylinux2014_x86_64.whl (18.8 MB)\n",
            "\u001b[2K     \u001b[90m━━━━━━━━━━━━━━━━━━━━━━━━━━━━━━━━━━━━━━━━\u001b[0m \u001b[32m18.8/18.8 MB\u001b[0m \u001b[31m55.7 MB/s\u001b[0m eta \u001b[36m0:00:00\u001b[0m\n",
            "\u001b[?25hCollecting geomet<0.3,>=0.1 (from cassandra-driver)\n",
            "  Downloading geomet-0.2.1.post1-py3-none-any.whl (18 kB)\n",
            "Requirement already satisfied: click in /usr/local/lib/python3.10/dist-packages (from geomet<0.3,>=0.1->cassandra-driver) (8.1.7)\n",
            "Requirement already satisfied: six in /usr/local/lib/python3.10/dist-packages (from geomet<0.3,>=0.1->cassandra-driver) (1.16.0)\n",
            "Installing collected packages: geomet, cassandra-driver\n",
            "Successfully installed cassandra-driver-3.29.0 geomet-0.2.1.post1\n"
          ]
        }
      ],
      "source": [
        "!pip install cassandra-driver"
      ]
    },
    {
      "cell_type": "code",
      "execution_count": 2,
      "metadata": {
        "id": "lYcUs8fDJLl-",
        "colab": {
          "base_uri": "https://localhost:8080/"
        },
        "outputId": "b0a25fba-2e1e-466b-a687-a0612a89b65b"
      },
      "outputs": [
        {
          "output_type": "stream",
          "name": "stderr",
          "text": [
            "WARNING:cassandra.cluster:Downgrading core protocol version from 66 to 65 for c072af12-8ab0-4392-856a-67d9d9a3c4f5-us-east1.db.astra.datastax.com:29042:d7422526-b25b-4d76-8ddd-4e67a20fc75d. To avoid this, it is best practice to explicitly set Cluster(protocol_version) to the version supported by your cluster. http://datastax.github.io/python-driver/api/cassandra/cluster.html#cassandra.cluster.Cluster.protocol_version\n",
            "WARNING:cassandra.cluster:Downgrading core protocol version from 65 to 5 for c072af12-8ab0-4392-856a-67d9d9a3c4f5-us-east1.db.astra.datastax.com:29042:d7422526-b25b-4d76-8ddd-4e67a20fc75d. To avoid this, it is best practice to explicitly set Cluster(protocol_version) to the version supported by your cluster. http://datastax.github.io/python-driver/api/cassandra/cluster.html#cassandra.cluster.Cluster.protocol_version\n",
            "ERROR:cassandra.connection:Closing connection <AsyncoreConnection(138591776420864) c072af12-8ab0-4392-856a-67d9d9a3c4f5-us-east1.db.astra.datastax.com:29042:d7422526-b25b-4d76-8ddd-4e67a20fc75d> due to protocol error: Error from server: code=000a [Protocol error] message=\"Beta version of the protocol used (5/v5-beta), but USE_BETA flag is unset\"\n",
            "WARNING:cassandra.cluster:Downgrading core protocol version from 5 to 4 for c072af12-8ab0-4392-856a-67d9d9a3c4f5-us-east1.db.astra.datastax.com:29042:d7422526-b25b-4d76-8ddd-4e67a20fc75d. To avoid this, it is best practice to explicitly set Cluster(protocol_version) to the version supported by your cluster. http://datastax.github.io/python-driver/api/cassandra/cluster.html#cassandra.cluster.Cluster.protocol_version\n"
          ]
        }
      ],
      "source": [
        "from cassandra.cluster import Cluster\n",
        "from cassandra.auth import PlainTextAuthProvider\n",
        "\n",
        "cloud_config = {\n",
        "    \"secure_connect_bundle\": \"secure-connect-nyc-yellow-taxi-db.zip\"  # replace <</PATH/TO/>> with the path where your downloaded bundle was downloaded (make sure to place this python file in the same place as well)\n",
        "}\n",
        "auth_provider = PlainTextAuthProvider(\n",
        "    \"yiGvbsUpoEqllXBsXXwOjZBc\",\n",
        "    \"p,b-6bj-cMT1IR3dv,kGm6A8Q+yZg0jcMHWivO2XU0y9+evSLpYZ923mLvs,ocJ-CLeOdYI8EeiBoa7jR.r3fOFtpiQwO+Zdb2aq4FqaO4xSEXj_TF4KFkHoAs5N6mt_\",\n",
        ")  # replace <<CLIENT ID>> and <<CLIENT SECRET>> with the ClientID and Client Secret from your generated token\n",
        "cluster = Cluster(cloud=cloud_config, auth_provider=auth_provider)\n",
        "session = cluster.connect()\n",
        "session.set_keyspace(\n",
        "    \"nyc_yellow_taxi_db\")  # replace <<KEYSPACENAME>> with the name of the keyspace you created in DataStax"
      ]
    },
    {
      "cell_type": "code",
      "execution_count": 3,
      "metadata": {
        "id": "thZraJ3zTmAI"
      },
      "outputs": [],
      "source": [
        "# -✔️- Reading listings from CSV into dataframe\n",
        "\n",
        "import pandas as pd\n",
        "\n",
        "# read the csv files into the dataframes\n",
        "trip_data = pd.read_csv('taxi_trip_data.csv')\n",
        "zone_data = pd.read_csv('taxi_zone_geo.csv')"
      ]
    },
    {
      "cell_type": "code",
      "execution_count": 4,
      "metadata": {
        "id": "tVyxB7TK3fFH"
      },
      "outputs": [],
      "source": [
        "# a) Remove the columns “store_and_fwd_flag”, “rate_code” and “total_amount” from taxitripdata\n",
        "trip_data = trip_data.drop(['store_and_fwd_flag', 'rate_code', 'total_amount'], axis=1)\n"
      ]
    },
    {
      "cell_type": "code",
      "source": [
        "# b) Drop rows with missing details\n",
        "trip_data = trip_data.dropna()\n"
      ],
      "metadata": {
        "id": "qxMzH71f_XSC"
      },
      "execution_count": 5,
      "outputs": []
    },
    {
      "cell_type": "code",
      "source": [
        "#merge the datasets\n",
        "merged_df = pd.merge(trip_data, zone_data, left_on='pickup_location_id', right_on='zone_id', how='left', suffixes=('_pickup', '_dropoff'))\n",
        "merged_df = pd.merge(merged_df, zone_data, left_on='dropoff_location_id', right_on='zone_id', how='left', suffixes=('_pickup', '_dropoff'))\n"
      ],
      "metadata": {
        "id": "KAfrzEOb_ajA"
      },
      "execution_count": 6,
      "outputs": []
    },
    {
      "cell_type": "code",
      "source": [
        "merged_df = merged_df.dropna()"
      ],
      "metadata": {
        "id": "8B2L4YAiE36m"
      },
      "execution_count": 7,
      "outputs": []
    },
    {
      "cell_type": "code",
      "execution_count": 8,
      "metadata": {
        "colab": {
          "base_uri": "https://localhost:8080/"
        },
        "id": "-nIyYeX83fFM",
        "outputId": "9b1f0e1f-6d1d-4b5a-b574-6da253aca6fb"
      },
      "outputs": [
        {
          "output_type": "stream",
          "name": "stdout",
          "text": [
            "   vendor_id      pickup_datetime     dropoff_datetime  passenger_count  \\\n",
            "0          1  2018-05-11 17:40:16  2018-05-11 17:55:35                1   \n",
            "1          2  2018-03-22 23:01:41  2018-03-22 23:25:36                1   \n",
            "2          2  2018-07-24 09:58:45  2018-07-24 10:22:37                1   \n",
            "3          2  2018-12-21 18:28:55  2018-12-21 18:35:45                1   \n",
            "4          1  2018-08-15 13:58:39  2018-08-15 14:05:25                1   \n",
            "\n",
            "   trip_distance  payment_type  fare_amount  extra  mta_tax  tip_amount  ...  \\\n",
            "0           1.60             1         11.5    1.0      0.5        0.00  ...   \n",
            "1           9.52             1         28.5    0.5      0.5        5.96  ...   \n",
            "2           2.17             1         15.5    0.0      0.5        1.50  ...   \n",
            "3           0.86             2          6.0    1.0      0.5        0.00  ...   \n",
            "4           0.30             2          5.5    0.0      0.5        0.00  ...   \n",
            "\n",
            "   pickup_location_id  dropoff_location_id  zone_id_pickup  \\\n",
            "0                  48                 68.0            48.0   \n",
            "1                 138                230.0           138.0   \n",
            "2                 234                 48.0           234.0   \n",
            "3                  79                125.0            79.0   \n",
            "4                 233                233.0           233.0   \n",
            "\n",
            "      zone_name_pickup  borough_pickup  \\\n",
            "0         Clinton East       Manhattan   \n",
            "1    LaGuardia Airport          Queens   \n",
            "2             Union Sq       Manhattan   \n",
            "3         East Village       Manhattan   \n",
            "4  UN/Turtle Bay South       Manhattan   \n",
            "\n",
            "                                    zone_geom_pickup zone_id_dropoff  \\\n",
            "0  POLYGON((-73.9907263629999 40.7559504059999, -...            68.0   \n",
            "1  MULTIPOLYGON(((-73.8728849699182 40.7859626331...           230.0   \n",
            "2  POLYGON((-73.9899776669999 40.7349792549999, -...            48.0   \n",
            "3  POLYGON((-73.9834436359999 40.7220185069999, -...           125.0   \n",
            "4  MULTIPOLYGON(((-73.9642119246275 40.7466666768...           233.0   \n",
            "\n",
            "           zone_name_dropoff  borough_dropoff  \\\n",
            "0               East Chelsea        Manhattan   \n",
            "1  Times Sq/Theatre District        Manhattan   \n",
            "2               Clinton East        Manhattan   \n",
            "3                  Hudson Sq        Manhattan   \n",
            "4        UN/Turtle Bay South        Manhattan   \n",
            "\n",
            "                                   zone_geom_dropoff  \n",
            "0  POLYGON((-74.0015553149999 40.7410800259999, -...  \n",
            "1  POLYGON((-73.9831679599999 40.7561402219999, -...  \n",
            "2  POLYGON((-73.9907263629999 40.7559504059999, -...  \n",
            "3  POLYGON((-74.0028172659999 40.7283631289999, -...  \n",
            "4  MULTIPOLYGON(((-73.9642119246275 40.7466666768...  \n",
            "\n",
            "[5 rows x 22 columns]\n"
          ]
        }
      ],
      "source": [
        "# print the first 5 rows of the dataframe\n",
        "print(merged_df.head())"
      ]
    },
    {
      "cell_type": "code",
      "source": [
        "merged_df.info()"
      ],
      "metadata": {
        "colab": {
          "base_uri": "https://localhost:8080/"
        },
        "id": "8OduCiZRFJbk",
        "outputId": "ef2825d1-c7dc-4abf-e55b-02f20b34e72d"
      },
      "execution_count": 9,
      "outputs": [
        {
          "output_type": "stream",
          "name": "stdout",
          "text": [
            "<class 'pandas.core.frame.DataFrame'>\n",
            "Int64Index: 55701 entries, 0 to 56822\n",
            "Data columns (total 22 columns):\n",
            " #   Column               Non-Null Count  Dtype  \n",
            "---  ------               --------------  -----  \n",
            " 0   vendor_id            55701 non-null  int64  \n",
            " 1   pickup_datetime      55701 non-null  object \n",
            " 2   dropoff_datetime     55701 non-null  object \n",
            " 3   passenger_count      55701 non-null  int64  \n",
            " 4   trip_distance        55701 non-null  float64\n",
            " 5   payment_type         55701 non-null  int64  \n",
            " 6   fare_amount          55701 non-null  float64\n",
            " 7   extra                55701 non-null  float64\n",
            " 8   mta_tax              55701 non-null  float64\n",
            " 9   tip_amount           55701 non-null  float64\n",
            " 10  tolls_amount         55701 non-null  float64\n",
            " 11  imp_surcharge        55701 non-null  float64\n",
            " 12  pickup_location_id   55701 non-null  int64  \n",
            " 13  dropoff_location_id  55701 non-null  float64\n",
            " 14  zone_id_pickup       55701 non-null  float64\n",
            " 15  zone_name_pickup     55701 non-null  object \n",
            " 16  borough_pickup       55701 non-null  object \n",
            " 17  zone_geom_pickup     55701 non-null  object \n",
            " 18  zone_id_dropoff      55701 non-null  float64\n",
            " 19  zone_name_dropoff    55701 non-null  object \n",
            " 20  borough_dropoff      55701 non-null  object \n",
            " 21  zone_geom_dropoff    55701 non-null  object \n",
            "dtypes: float64(10), int64(4), object(8)\n",
            "memory usage: 9.8+ MB\n"
          ]
        }
      ]
    },
    {
      "cell_type": "code",
      "source": [
        "# Truncate the taxi_data table\n",
        "truncate_table_taxi_data = \"TRUNCATE trip_data;\"\n",
        "session.execute(truncate_table_taxi_data)\n",
        "\n"
      ],
      "metadata": {
        "colab": {
          "base_uri": "https://localhost:8080/"
        },
        "id": "hyZtIa17LYVq",
        "outputId": "afb7590c-9c4f-490a-f852-b7efc83daef0"
      },
      "execution_count": 17,
      "outputs": [
        {
          "output_type": "execute_result",
          "data": {
            "text/plain": [
              "<cassandra.cluster.ResultSet at 0x7e0c8726a4d0>"
            ]
          },
          "metadata": {},
          "execution_count": 17
        }
      ]
    },
    {
      "cell_type": "code",
      "source": [
        "# session.execute(\"DROP TABLE trip_data;\");\n",
        "# session.execute(\"DROP TABLE taxi_data;\");\n",
        "\n"
      ],
      "metadata": {
        "id": "kRnegnTlCJxe"
      },
      "execution_count": 42,
      "outputs": []
    },
    {
      "cell_type": "code",
      "source": [
        "session.execute(\"DROP TYPE dropoff_location_type;\");\n"
      ],
      "metadata": {
        "id": "JJ-pvUZjJ1GQ"
      },
      "execution_count": 44,
      "outputs": []
    },
    {
      "cell_type": "code",
      "source": [
        "\n",
        "# create the table for trip_data, with a UDT for the pickup and dropoff location from the zone_geo table\n",
        "session.execute(\n",
        "    \"\"\"\n",
        "    CREATE TYPE pickup_location (\n",
        "        zone_id FLOAT,\n",
        "        zone_name TEXT,\n",
        "        borough TEXT,\n",
        "        zone_geom TEXT\n",
        "    );\n",
        "    \"\"\"\n",
        ")\n",
        "\n",
        "session.execute(\n",
        "    \"\"\"\n",
        "    CREATE TYPE dropoff_location (\n",
        "        zone_id FLOAT,\n",
        "        zone_name TEXT,\n",
        "        borough TEXT,\n",
        "        zone_geom TEXT\n",
        "    );\n",
        "    \"\"\"\n",
        ")\n",
        "\n"
      ],
      "metadata": {
        "colab": {
          "base_uri": "https://localhost:8080/"
        },
        "id": "J3o8uGIX5huu",
        "outputId": "39c994aa-b0c1-4754-d743-b3f0f46dcc58"
      },
      "execution_count": 45,
      "outputs": [
        {
          "output_type": "execute_result",
          "data": {
            "text/plain": [
              "<cassandra.cluster.ResultSet at 0x7e0c47eccd00>"
            ]
          },
          "metadata": {},
          "execution_count": 45
        }
      ]
    },
    {
      "cell_type": "code",
      "source": [
        "\n",
        "# columns in the trip_data table:\n",
        "# vendor_id, pickup_datetime, dropoff_datetime, passenger_count, trip_distance, rate_code, store_and_fwd_flag, payment_type, fare_amount, extra, mta_tax, tip_amount, tolls_amount,\n",
        "# imp_surcharge, total_amount, pickup_location_id, dropoff_location_id, pickup_location, dropoff_location\n",
        "#  zone_id_x zone_name_x  borough_x  zone_geom_x  zone_id_y zone_name_y  borough_y  zone_geom_y\n",
        "\n",
        "# create the table for trip_data\n",
        "session.execute(\n",
        "    \"\"\"\n",
        "CREATE TABLE trip_data (\n",
        "    vendor_id INT,\n",
        "    pickup_datetime TIMESTAMP,\n",
        "    dropoff_datetime TIMESTAMP,\n",
        "    passenger_count FLOAT,\n",
        "    trip_distance FLOAT,\n",
        "    payment_type INT,\n",
        "    fare_amount FLOAT,\n",
        "    extra FLOAT,\n",
        "    mta_tax FLOAT,\n",
        "    tip_amount FLOAT,\n",
        "    tolls_amount FLOAT,\n",
        "    imp_surcharge FLOAT,\n",
        "    pickup_location location,\n",
        "    dropoff_location location,\n",
        "    PRIMARY KEY ((pickup_datetime, dropoff_datetime), vendor_id)\n",
        ");\n",
        "\n",
        "\n",
        "    \"\"\"\n",
        ")\n"
      ],
      "metadata": {
        "id": "CoIq7Lc_LSw4"
      },
      "execution_count": null,
      "outputs": []
    },
    {
      "cell_type": "code",
      "execution_count": 50,
      "metadata": {
        "colab": {
          "base_uri": "https://localhost:8080/",
          "height": 349
        },
        "id": "lAO369as3fFN",
        "outputId": "ec6c399d-f981-4393-f1bd-dc651e8c8ff3"
      },
      "outputs": [
        {
          "output_type": "error",
          "ename": "InvalidRequest",
          "evalue": "Error from server: code=2200 [Invalid query] message=\"Invalid map literal for pickup_location of type location\"",
          "traceback": [
            "\u001b[0;31m---------------------------------------------------------------------------\u001b[0m",
            "\u001b[0;31mInvalidRequest\u001b[0m                            Traceback (most recent call last)",
            "\u001b[0;32m<ipython-input-50-4655b25ce689>\u001b[0m in \u001b[0;36m<cell line: 5>\u001b[0;34m()\u001b[0m\n\u001b[1;32m     34\u001b[0m \u001b[0;34m\u001b[0m\u001b[0m\n\u001b[1;32m     35\u001b[0m     \u001b[0;31m# Insert the data into the trip_data table\u001b[0m\u001b[0;34m\u001b[0m\u001b[0;34m\u001b[0m\u001b[0m\n\u001b[0;32m---> 36\u001b[0;31m     session.execute(\n\u001b[0m\u001b[1;32m     37\u001b[0m         \"\"\"\n\u001b[1;32m     38\u001b[0m         \u001b[0mINSERT\u001b[0m \u001b[0mINTO\u001b[0m \u001b[0mtrip_data\u001b[0m \u001b[0;34m(\u001b[0m\u001b[0mvendor_id\u001b[0m\u001b[0;34m,\u001b[0m \u001b[0mpickup_datetime\u001b[0m\u001b[0;34m,\u001b[0m \u001b[0mdropoff_datetime\u001b[0m\u001b[0;34m,\u001b[0m \u001b[0mpassenger_count\u001b[0m\u001b[0;34m,\u001b[0m \u001b[0mtrip_distance\u001b[0m\u001b[0;34m,\u001b[0m \u001b[0mpayment_type\u001b[0m\u001b[0;34m,\u001b[0m \u001b[0mfare_amount\u001b[0m\u001b[0;34m,\u001b[0m \u001b[0mextra\u001b[0m\u001b[0;34m,\u001b[0m \u001b[0mmta_tax\u001b[0m\u001b[0;34m,\u001b[0m \u001b[0mtip_amount\u001b[0m\u001b[0;34m,\u001b[0m \u001b[0mtolls_amount\u001b[0m\u001b[0;34m,\u001b[0m \u001b[0mimp_surcharge\u001b[0m\u001b[0;34m,\u001b[0m \u001b[0mpickup_location\u001b[0m\u001b[0;34m,\u001b[0m \u001b[0mdropoff_location\u001b[0m\u001b[0;34m)\u001b[0m\u001b[0;34m\u001b[0m\u001b[0;34m\u001b[0m\u001b[0m\n",
            "\u001b[0;32m/usr/local/lib/python3.10/dist-packages/cassandra/cluster.cpython-310-x86_64-linux-gnu.so\u001b[0m in \u001b[0;36mcassandra.cluster.Session.execute\u001b[0;34m()\u001b[0m\n",
            "\u001b[0;32m/usr/local/lib/python3.10/dist-packages/cassandra/cluster.cpython-310-x86_64-linux-gnu.so\u001b[0m in \u001b[0;36mcassandra.cluster.ResponseFuture.result\u001b[0;34m()\u001b[0m\n",
            "\u001b[0;31mInvalidRequest\u001b[0m: Error from server: code=2200 [Invalid query] message=\"Invalid map literal for pickup_location of type location\""
          ]
        }
      ],
      "source": [
        "# c) Insert the data in the database as you see fit\n",
        "from cassandra.cluster import Cluster\n",
        "# Iterate over rows in merged_df DataFrame\n",
        "# Iterate over rows in merged_df DataFrame\n",
        "for index, row in merged_df.iterrows():\n",
        "    # Extract data for insertion\n",
        "    vendor_id = int(row['vendor_id'])\n",
        "    pickup_datetime = row['pickup_datetime']\n",
        "    dropoff_datetime = row['dropoff_datetime']\n",
        "    passenger_count = int(row['passenger_count'])\n",
        "    trip_distance = row['trip_distance']\n",
        "    payment_type = row['payment_type']\n",
        "    fare_amount = row['fare_amount']\n",
        "    extra = row['extra']\n",
        "    mta_tax = row['mta_tax']\n",
        "    tip_amount = row['tip_amount']\n",
        "    tolls_amount = row['tolls_amount']\n",
        "    imp_surcharge = row['imp_surcharge']\n",
        "\n",
        "    # Convert pickup_location and dropoff_location to Cassandra map type\n",
        "# Convert pickup_location and dropoff_location to Cassandra map type\n",
        "    pickup_location_data = {\n",
        "        'zone_id': int(row['zone_id_pickup']),\n",
        "        'zone_name': row['zone_name_pickup'],\n",
        "        'borough': row['borough_pickup'],\n",
        "        'zone_geom': row['zone_geom_pickup']\n",
        "    }\n",
        "    dropoff_location_data = {\n",
        "        'zone_id': int(row['zone_id_dropoff']),\n",
        "        'zone_name': row['zone_name_dropoff'],\n",
        "        'borough': row['borough_dropoff'],\n",
        "        'zone_geom': row['zone_geom_dropoff']\n",
        "    }\n",
        "\n",
        "    # Insert the data into the trip_data table\n",
        "    session.execute(\n",
        "        \"\"\"\n",
        "        INSERT INTO trip_data (vendor_id, pickup_datetime, dropoff_datetime, passenger_count, trip_distance, payment_type, fare_amount, extra, mta_tax, tip_amount, tolls_amount, imp_surcharge, pickup_location, dropoff_location)\n",
        "        VALUES (%s, %s, %s, %s, %s, %s, %s, %s, %s, %s, %s, %s, %s, %s)\n",
        "        \"\"\",\n",
        "        (vendor_id, pickup_datetime, dropoff_datetime, passenger_count, trip_distance, payment_type, fare_amount, extra, mta_tax, tip_amount, tolls_amount, imp_surcharge, pickup_location_data, dropoff_location_data)\n",
        "    )\n"
      ]
    },
    {
      "cell_type": "code",
      "source": [],
      "metadata": {
        "id": "OruF9QowKpH7"
      },
      "execution_count": null,
      "outputs": []
    },
    {
      "cell_type": "code",
      "execution_count": null,
      "metadata": {
        "id": "u99c23t33fFP"
      },
      "outputs": [],
      "source": [
        "# d) Calculate the duration for each trip and add it as a new field in your database (e7sb el duration men pickup date le dropoff date)\n",
        "# add a new column to the trip_data dataframe for the duration of the trip\n",
        "trip_data[\"duration\"] = trip_data[\"dropoff_datetime\"] - trip_data[\"pickup_datetime\"]\n",
        "\n",
        "# add a new column to the trip_data table for the duration of the trip\n",
        "session.execute(\n",
        "    \"\"\"\n",
        "    ALTER TABLE trip_data ADD duration timestamp\n",
        "    \"\"\"\n",
        ")\n",
        "\n",
        "# update the duration column in the trip_data table with the duration of the trip\n",
        "for x in range(0, 25000):\n",
        "    pickup_datetime = trip_data[\"pickup_datetime\"][x]\n",
        "    dropoff_datetime = trip_data[\"dropoff_datetime\"][x]\n",
        "    duration = dropoff_datetime - pickup_datetime\n",
        "\n",
        "    session.execute(\n",
        "        \"\"\"\n",
        "        UPDATE trip_data\n",
        "        SET duration = %s\n",
        "        WHERE pickup_datetime = %s AND dropoff_datetime = %s, vendor_id = %s\n",
        "        \"\"\",\n",
        "        (duration, pickup_datetime, dropoff_datetime, trip_data[\"vendor_id\"][x]),\n",
        "    )"
      ]
    },
    {
      "cell_type": "code",
      "execution_count": null,
      "metadata": {
        "id": "t-fluENg3fFR"
      },
      "outputs": [],
      "source": [
        "# e) Use “fare_amount”, “extra”, “mta_tax”, “tip_amount”, “tolls_amount” and “imp_surcharge” to calculate the total trip cost and add it as a new field in your database (e7sb el total cost)\n"
      ]
    },
    {
      "cell_type": "code",
      "execution_count": null,
      "metadata": {
        "id": "pslVDfd83fFS"
      },
      "outputs": [],
      "source": [
        "# f) What is the most common payment type used per time of day? Hint: time of day meaning morning, afternoon, evening, night\n",
        "# create a new column in the trip_data dataframe for the time of day\n",
        "trip_data[\"time_of_day\"] = pd.cut(\n",
        "    trip_data[\"pickup_datetime\"].dt.hour,\n",
        "    bins=[0, 6, 12, 18, 24],\n",
        "    labels=[\"night\", \"morning\", \"afternoon\", \"evening\"],\n",
        ")\n",
        "\n",
        "# create a new column in the trip_data table for the time of day\n",
        "session.execute(\n",
        "    \"\"\"\n",
        "    ALTER TABLE trip_data ADD time_of_day text\n",
        "    \"\"\"\n",
        ")\n",
        "\n",
        "# update the time_of_day column in the trip_data table with the time of day\n",
        "for x in range(0, 25000):\n",
        "    time_of_day = pd.cut(\n",
        "        trip_data[\"pickup_datetime\"].dt.hour,\n",
        "        bins=[0, 6, 12, 18, 24],\n",
        "        labels=[\"night\", \"morning\", \"afternoon\", \"evening\"],\n",
        "    )\n",
        "\n",
        "    session.execute(\n",
        "        \"\"\"\n",
        "        UPDATE trip_data\n",
        "        SET time_of_day = %s\n",
        "        WHERE pickup_datetime = %s AND dropoff_datetime = %s, vendor_id = %s\n",
        "        \"\"\",\n",
        "        (time_of_day, trip_data[\"pickup_datetime\"][x], trip_data[\"dropoff_datetime\"][x], trip_data[\"vendor_id\"][x]),\n",
        "    )\n",
        "\n",
        "# query the trip_data table to find the most common payment type used per time of day\n",
        "result = session.execute(\n",
        "    \"\"\"\n",
        "    SELECT time_of_day, payment_type, COUNT(*)\n",
        "    FROM trip_data\n",
        "    GROUP BY time_of_day, payment_type\n",
        "    \"\"\"\n",
        ")\n"
      ]
    },
    {
      "cell_type": "code",
      "execution_count": null,
      "metadata": {
        "id": "Yf264jIh3fFS"
      },
      "outputs": [],
      "source": [
        "# g) What is the average tip amount per passenger count?\n",
        "# query the trip_data table to find the average tip amount per passenger count\n",
        "result = session.execute(\n",
        "    \"\"\"\n",
        "    SELECT passenger_count, AVG(tip_amount)\n",
        "    FROM trip_data\n",
        "    GROUP BY passenger_count\n",
        "    \"\"\"\n",
        ")\n",
        "\n",
        "# print the average tip amount per passenger count\n",
        "for row in result:\n",
        "    print(row)"
      ]
    },
    {
      "cell_type": "code",
      "execution_count": null,
      "metadata": {
        "id": "RCqg1efA3fFT"
      },
      "outputs": [],
      "source": [
        "# h) What are the best 5 locations for drivers to pick up passengers from? (based on the trip count)\n",
        "# query the trip_data table to find the best 5 locations for drivers to pick up passengers from\n",
        "result = session.execute(\n",
        "    \"\"\"\n",
        "    SELECT pickup_location.zone_name, COUNT(*)\n",
        "    FROM trip_data\n",
        "    WHERE pickup_location.zone_name IS NOT NULL\n",
        "    GROUP BY pickup_location.zone_name\n",
        "    ORDER BY COUNT(*) DESC\n",
        "    LIMIT 5\n",
        "    \"\"\"\n",
        ")\n",
        "\n",
        "# print the best 5 locations for drivers to pick up passengers from\n",
        "for row in result:\n",
        "    print(row)"
      ]
    },
    {
      "cell_type": "code",
      "execution_count": null,
      "metadata": {
        "id": "SZ23Icdt3fFT"
      },
      "outputs": [],
      "source": [
        "# Is there a correlation between trip distance and the tip amount? (not to be done using the correlation calculation)\n",
        "# create a new cloumn tip percentage, and calculate the tip percentage for each trip by dividing the tip amount by the total amount, and compare it to the trip distance"
      ]
    },
    {
      "cell_type": "code",
      "execution_count": null,
      "metadata": {
        "id": "Ifx7XBvQ3fFU"
      },
      "outputs": [],
      "source": [
        "# Display the results of f, g and h using visualizations (will be graded based on the creativity and efficiency of the visualizations)\n"
      ]
    }
  ],
  "metadata": {
    "colab": {
      "provenance": []
    },
    "kernelspec": {
      "display_name": "Python 3",
      "name": "python3"
    },
    "language_info": {
      "codemirror_mode": {
        "name": "ipython",
        "version": 3
      },
      "file_extension": ".py",
      "mimetype": "text/x-python",
      "name": "python",
      "nbconvert_exporter": "python",
      "pygments_lexer": "ipython3",
      "version": "3.10.11"
    }
  },
  "nbformat": 4,
  "nbformat_minor": 0
}